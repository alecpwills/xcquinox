{
 "cells": [
  {
   "cell_type": "code",
   "execution_count": 2,
   "id": "08b9c7b6-b4c1-4561-8985-c133b7c54e5a",
   "metadata": {},
   "outputs": [
    {
     "name": "stderr",
     "output_type": "stream",
     "text": [
      "/home/awills/anaconda3/envs/pyscfad/lib/python3.10/site-packages/pyscf/dft/libxc.py:772: UserWarning: Since PySCF-2.3, B3LYP (and B3P86) are changed to the VWN-RPA variant, the same to the B3LYP functional in Gaussian and ORCA (issue 1480). To restore the VWN5 definition, you can put the setting \"B3LYP_WITH_VWN5 = True\" in pyscf_conf.py\n",
      "  warnings.warn('Since PySCF-2.3, B3LYP (and B3P86) are changed to the VWN-RPA variant, '\n"
     ]
    }
   ],
   "source": [
    "# import pyscfad\n",
    "# from pyscfad import gto,dft,scf\n",
    "import matplotlib.pyplot as plt\n",
    "import equinox as eqx\n",
    "import pyscf\n",
    "from pyscf import gto,dft,scf"
   ]
  },
  {
   "cell_type": "code",
   "execution_count": 3,
   "id": "ff3495a9-9540-4120-92c8-01c0005c99d1",
   "metadata": {},
   "outputs": [],
   "source": [
    "import numpy as np\n",
    "import jax.numpy as jnp\n",
    "import scipy\n",
    "from ase import Atoms\n",
    "from ase.io import read\n",
    "import xcquinox as xce\n",
    "from functools import partial\n",
    "from ase.units import Bohr\n",
    "import os, optax, jax\n"
   ]
  },
  {
   "cell_type": "code",
   "execution_count": 38,
   "id": "bc862ab5-4c49-465a-acbb-dca9a2ff288a",
   "metadata": {},
   "outputs": [],
   "source": [
    "def get_mol(atoms, basis='6-311++G**'):\n",
    "    pos = atoms.positions\n",
    "    spec = atoms.get_chemical_symbols()\n",
    "    mol_input = [[s, p] for s, p in zip(spec, pos)]\n",
    "    try:\n",
    "        mol = gto.Mole(atom=mol_input, basis=atoms.info.get('basis',basis),spin=atoms.info.get('spin',0))\n",
    "    except Exception:\n",
    "        mol = gto.Mole(atom=mol_input, basis=atoms.info.get('basis','STO-3G'),spin=atoms.info.get('spin',0))\n",
    "    return mol \n",
    "\n",
    "def get_rhos(rho, spin):\n",
    "    rho0 = rho[0,0]\n",
    "    drho = rho[0,1:4] + rho[1:4,0]\n",
    "    tau = 0.5*(rho[1,1] + rho[2,2] + rho[3,3])\n",
    "\n",
    "    if spin != 0:\n",
    "        rho0_a = rho0[0]\n",
    "        rho0_b = rho0[1]\n",
    "        gamma_a, gamma_b = jnp.einsum('ij,ij->j',drho[:,0],drho[:,0]), jnp.einsum('ij,ij->j',drho[:,1],drho[:,1])              \n",
    "        gamma_ab = jnp.einsum('ij,ij->j',drho[:,0],drho[:,1])\n",
    "        tau_a, tau_b = tau\n",
    "    else:\n",
    "        rho0_a = rho0_b = rho0*0.5\n",
    "        gamma_a=gamma_b=gamma_ab= jnp.einsum('ij,ij->j',drho[:],drho[:])*0.25\n",
    "        tau_a = tau_b = tau*0.5\n",
    "    return rho0_a, rho0_b, gamma_a, gamma_b, gamma_ab, tau_a, tau_b\n",
    "    \n",
    "def get_data_synth(xcmodel, xc_func, n=100):\n",
    "    def get_rho(s, a):\n",
    "        c0 = 2*(3*np.pi**2)**(1/3)\n",
    "        c1 = 3/10*(3*np.pi**2)**(2/3)\n",
    "        gamma = c0*s\n",
    "        tau = c1*a+c0**2*s**2/8\n",
    "        rho = np.zeros([len(a),6])\n",
    "        rho[:, 1] = gamma\n",
    "        rho[:,-1] = tau\n",
    "        rho[:, 0] = 1\n",
    "        return rho\n",
    "    \n",
    "    s_grid = jnp.concatenate([[0],jnp.exp(jnp.linspace(-10,4,n))])\n",
    "    rho = []\n",
    "    for s in s_grid:\n",
    "        if 'MGGA' in xc_func:\n",
    "            a_grid = jnp.concatenate([jnp.exp(jnp.linspace(jnp.log((s/100)+1e-8),8,n))])\n",
    "        else:\n",
    "            a_grid = jnp.array([0])\n",
    "        rho.append(get_rho(s, a_grid))\n",
    "        \n",
    "    rho = jnp.concatenate(rho)\n",
    "    \n",
    "    fxc =  dft.numint.libxc.eval_xc(xc_func,rho.T, spin=0)[0]/dft.numint.libxc.eval_xc('LDA_X',rho.T, spin=0)[0] -1\n",
    " \n",
    "    rho = jnp.asarray(rho)\n",
    "    \n",
    "    tdrho = xcmodel.get_descriptors(rho[:,0]/2,rho[:,0]/2,(rho[:,1]/2)**2,(rho[:,1]/2)**2,(rho[:,1]/2)**2,rho[:,5]/2,rho[:,5]/2, spin_scaling=True, mf=mf, dm=dm)\n",
    "    \n",
    "\n",
    "\n",
    "    tFxc = jnp.array(fxc)\n",
    "    return tdrho[0], tFxc\n",
    "\n",
    "def get_data(mol, xcmodel, xc_func, localnet=None):\n",
    "    print('mol: ', mol.atom)\n",
    "    try:\n",
    "        mf = scf.UKS(mol)\n",
    "    except:\n",
    "        mf = dft.RKS(mol)\n",
    "    mf.xc = 'PBE'\n",
    "    mf.grids.level = 1\n",
    "    mf.kernel()\n",
    "    ao = mf._numint.eval_ao(mol, mf.grids.coords, deriv=2)\n",
    "    dm = mf.make_rdm1()\n",
    "    if len(dm.shape) == 2:\n",
    "        #artificially spin-polarize\n",
    "        dm = np.array([0.5*dm, 0.5*dm])\n",
    "    print('New DM shape: {}'.format(dm.shape))\n",
    "    print('ao.shape', ao.shape)\n",
    "\n",
    "    if localnet.spin_scaling:\n",
    "        print('spin scaling, indicates exchange network')\n",
    "        rho_alpha = mf._numint.eval_rho(mol, ao, dm[0], xctype='metaGGA',hermi=True)\n",
    "        rho_beta = mf._numint.eval_rho(mol, ao, dm[1], xctype='metaGGA',hermi=True)\n",
    "        fxc_a =  mf._numint.eval_xc(xc_func,(rho_alpha,rho_alpha*0), spin=1)[0]/mf._numint.eval_xc('LDA_X',(rho_alpha,rho_alpha*0), spin=1)[0] -1\n",
    "        fxc_b =  mf._numint.eval_xc(xc_func,(rho_beta*0,rho_beta), spin=1)[0]/mf._numint.eval_xc('LDA_X',(rho_beta*0,rho_beta), spin=1)[0] -1\n",
    "        print('fxc with xc_func = {} = {}'.format(fxc_a, xc_func))\n",
    "        print(f'rho_a.shape={rho_alpha.shape}, rho_b.shape={rho_beta.shape}')\n",
    "        print(f'fxc_a.shape={fxc_a.shape}, fxc_b.shape={fxc_b.shape}')\n",
    "\n",
    "        if mol.spin != 0 and sum(mol.nelec)>1:\n",
    "            print('mol.spin != 0 and sum(mol.nelec) > 1')\n",
    "            rho = jnp.concatenate([rho_alpha, rho_beta], axis=-1)\n",
    "            fxc = jnp.concatenate([fxc_a, fxc_b])\n",
    "            print(f'rho.shape={rho.shape}, fxc.shape={fxc.shape}')\n",
    "        else:\n",
    "            print('NOT (mol.spin != 0 and sum(mol.nelec) > 1)')\n",
    "            rho = rho_alpha\n",
    "            fxc = fxc_a\n",
    "            print(f'rho.shape={rho.shape}, fxc.shape={fxc.shape}')\n",
    "    else:    \n",
    "        print('no spin scaling, indicates correlation network')\n",
    "        rho_alpha = mf._numint.eval_rho(mol, ao, dm[0], xctype='metaGGA',hermi=True)\n",
    "        rho_beta = mf._numint.eval_rho(mol, ao, dm[1], xctype='metaGGA',hermi=True)\n",
    "        exc = mf._numint.eval_xc(xc_func,(rho_alpha,rho_beta), spin=1)[0]\n",
    "        print('exc with xc_func = {} = {}'.format(exc, xc_func))\n",
    "        fxc = exc/mf._numint.eval_xc('LDA_C_PW',(rho_alpha, rho_beta), spin=1)[0] -1\n",
    "        rho = jnp.stack([rho_alpha,rho_beta], axis=-1)\n",
    "    \n",
    "    dm = jnp.array(mf.make_rdm1())\n",
    "    print('get_data, dm shape = {}'.format(dm.shape))\n",
    "    ao_eval = jnp.array(mf._numint.eval_ao(mol, mf.grids.coords, deriv=1))\n",
    "    print(f'ao_eval.shape={ao_eval.shape}')\n",
    "    rho = jnp.einsum('xij,yik,...jk->xy...i', ao_eval, ao_eval, dm)        \n",
    "    rho0 = rho[0,0]\n",
    "    drho = rho[0,1:4] + rho[1:4,0]\n",
    "    tau = 0.5*(rho[1,1] + rho[2,2] + rho[3,3])\n",
    "\n",
    "    print('rho shape', rho.shape)\n",
    "    if dm.ndim == 3:\n",
    "        rho_filt = (jnp.sum(rho0,axis=0) > 1e-6)\n",
    "    else:\n",
    "        rho_filt = (rho0 > 1e-6)\n",
    "    print('rho_filt shape:', rho_filt.shape)\n",
    "\n",
    "    \n",
    "    mf.converged=True\n",
    "    tdrho = xcmodel.get_descriptors(*get_rhos(rho, spin=1), spin_scaling=localnet.spin_scaling, mf=mf, dm=dm)\n",
    "    print(f'tdrho.shape={tdrho.shape}')\n",
    "    if localnet.spin_scaling:\n",
    "        if mol.spin != 0 and sum(mol.nelec) > 1:\n",
    "            print('mol.spin != 0 and sum(mol.nelec) > 1')\n",
    "            #tdrho not returned in a spin-polarized form regardless,\n",
    "            #but the enhancement factors sampled as polarized, so double\n",
    "            tdrho = jnp.concatenate([tdrho,tdrho], axis=1)\n",
    "            rho_filt2 = rho_filt.copy()\n",
    "            rho_filt = jnp.concatenate([rho_filt]*2)\n",
    "            print(f'tdrho.shape={tdrho.shape}')\n",
    "            print(f'rho_filt.shape={rho_filt.shape}')\n",
    "        elif sum(mol.nelec) == 1:\n",
    "            pass\n",
    "    try:\n",
    "        tdrho = tdrho[rho_filt]\n",
    "        tFxc = jnp.array(fxc)[rho_filt]\n",
    "    except:\n",
    "        tdrho = tdrho[:, rho_filt, :]\n",
    "        tFxc = jnp.array(fxc)[rho_filt]\n",
    "    return tdrho, tFxc\n",
    "\n",
    "def get_data_exc(mol, xcmodel, xc_func, localnet=None, xorc=None):\n",
    "    print('mol: ', mol.atom)\n",
    "    try:\n",
    "        mf = scf.UKS(mol)\n",
    "    except:\n",
    "        mf = dft.RKS(mol)\n",
    "    mf.xc = 'PBE'\n",
    "    mf.grids.level = 1\n",
    "    mf.kernel()\n",
    "    ao = mf._numint.eval_ao(mol, mf.grids.coords, deriv=2)\n",
    "    dm = mf.make_rdm1()\n",
    "    if len(dm.shape) == 2:\n",
    "        #artificially spin-polarize\n",
    "        dm = np.array([0.5*dm, 0.5*dm])\n",
    "    print('New DM shape: {}'.format(dm.shape))\n",
    "    print('ao.shape', ao.shape)\n",
    "\n",
    "    #depending on the x or c type, choose the generation of the exchange or correlation density\n",
    "    if xorc == 'x':\n",
    "        print('Exchange contribution only')\n",
    "        xc_func = xc_func+','\n",
    "        if xc_func.lower() == 'pbe0,':\n",
    "            print('PBE0 detected. changing xc_func to be combination of HF and PBE')\n",
    "            xc_func = '0.25*HF + 0.75*PBE,'\n",
    "        print(xc_func)\n",
    "    elif xorc == 'c':\n",
    "        print('Correlation contribution only')\n",
    "        xc_func = ','+xc_func\n",
    "        if xc_func.lower() == ',pbe0':\n",
    "            print('PBE0 detected. Changing correlation to be just PBE')\n",
    "            xc_func = ',pbe'\n",
    "        print(xc_func)\n",
    "    if localnet.spin_scaling:\n",
    "        print('spin scaling')\n",
    "        rho_alpha = mf._numint.eval_rho(mol, ao, dm[0], xctype='metaGGA',hermi=True)\n",
    "        rho_beta = mf._numint.eval_rho(mol, ao, dm[1], xctype='metaGGA',hermi=True)\n",
    "        fxc_a =  mf._numint.eval_xc(xc_func,(rho_alpha,rho_alpha*0), spin=1)[0]\n",
    "        fxc_b =  mf._numint.eval_xc(xc_func,(rho_beta*0,rho_beta), spin=1)[0]\n",
    "        print('fxc with xc_func = {} = {}'.format(fxc_a, xc_func))\n",
    "        print(f'rho_a.shape={rho_alpha.shape}, rho_b.shape={rho_beta.shape}')\n",
    "        print(f'fxc_a.shape={fxc_a.shape}, fxc_b.shape={fxc_b.shape}')\n",
    "\n",
    "        if mol.spin != 0 and sum(mol.nelec)>1:\n",
    "            print('mol.spin != 0 and sum(mol.nelec) > 1')\n",
    "            rho = jnp.concatenate([rho_alpha, rho_beta], axis=-1)\n",
    "            fxc = jnp.concatenate([fxc_a, fxc_b])\n",
    "            print(f'rho.shape={rho.shape}, fxc.shape={fxc.shape}')\n",
    "        else:\n",
    "            print('NOT (mol.spin != 0 and sum(mol.nelec) > 1)')\n",
    "            rho = rho_alpha\n",
    "            fxc = fxc_a\n",
    "            print(f'rho.shape={rho.shape}, fxc.shape={fxc.shape}')\n",
    "    else:    \n",
    "        print('no spin scaling')\n",
    "        rho_alpha = mf._numint.eval_rho(mol, ao, dm[0], xctype='metaGGA',hermi=True)\n",
    "        rho_beta = mf._numint.eval_rho(mol, ao, dm[1], xctype='metaGGA',hermi=True)\n",
    "        exc = mf._numint.eval_xc(xc_func,(rho_alpha,rho_beta), spin=1)[0]\n",
    "        print('exc with xc_func = {} = {}'.format(exc, xc_func))\n",
    "        fxc = exc\n",
    "        rho = jnp.stack([rho_alpha,rho_beta], axis=-1)\n",
    "    \n",
    "    dm = jnp.array(mf.make_rdm1())\n",
    "    print('get_data, dm shape = {}'.format(dm.shape))\n",
    "    ao_eval = jnp.array(mf._numint.eval_ao(mol, mf.grids.coords, deriv=1))\n",
    "    print(f'ao_eval.shape={ao_eval.shape}')\n",
    "    rho = jnp.einsum('xij,yik,...jk->xy...i', ao_eval, ao_eval, dm)        \n",
    "    rho0 = rho[0,0]\n",
    "\n",
    "    print('rho shape', rho.shape)\n",
    "    if dm.ndim == 3:\n",
    "        rho_filt = (jnp.sum(rho0,axis=0) > 1e-6)\n",
    "    else:\n",
    "        rho_filt = (rho0 > 1e-6)\n",
    "    print('rho_filt shape:', rho_filt.shape)\n",
    "\n",
    "    \n",
    "    mf.converged=True\n",
    "    tdrho = xcmodel.get_descriptors(*get_rhos(rho, spin=1), spin_scaling=localnet.spin_scaling, mf=mf, dm=dm)\n",
    "    print(f'get descriptors tdrho.shape={tdrho.shape}')\n",
    "    if localnet.spin_scaling:\n",
    "        if mol.spin != 0 and sum(mol.nelec) > 1:\n",
    "            print('mol.spin != 0 and sum(mol.nelec) > 1')\n",
    "            #tdrho not returned in a spin-polarized form regardless,\n",
    "            #but the enhancement factors sampled as polarized, so double\n",
    "            if len(tdrho.shape) == 3:\n",
    "                print('concatenating spin channels along axis=0')\n",
    "                tdrho = jnp.concatenate([tdrho[0],tdrho[1]], axis=0)\n",
    "            else:\n",
    "                print('concatenating along axis=0')\n",
    "                tdrho = jnp.concatenate([tdrho, tdrho], axis=0)\n",
    "            rho_filt = jnp.concatenate([rho_filt]*2)\n",
    "            print(f'tdrho.shape={tdrho.shape}')\n",
    "            print(f'rho_filt.shape={rho_filt.shape}')\n",
    "        else:\n",
    "            #spin == 0 or hydrogen\n",
    "            tdrho = tdrho[0]\n",
    "            \n",
    "    try:\n",
    "        tdrho = tdrho[rho_filt]\n",
    "        tFxc = jnp.array(fxc)[rho_filt]\n",
    "    except:\n",
    "        tdrho = tdrho[:, rho_filt, :]\n",
    "        tFxc = jnp.array(fxc)[rho_filt]\n",
    "    return tdrho, tFxc\n",
    "\n",
    "\n",
    "level_dict = {'GGA':2, 'MGGA':3, 'NONLOCAL':4}\n",
    "\n",
    "x_lob_level_dict = {'GGA': 1.804, 'MGGA': 1.174, 'NONLOCAL': 1.174}\n",
    "\n",
    "class PT_E_Loss(eqx.Module):\n",
    "\n",
    "    def __call__(self, model, inp, ref):\n",
    "\n",
    "        pred = jax.vmap(model.net)(inp)[:, 0]\n",
    "\n",
    "        err = pred-ref\n",
    "\n",
    "        return jnp.mean(jnp.square(err))\n"
   ]
  },
  {
   "cell_type": "code",
   "execution_count": 39,
   "id": "eb5b74f8-9bdb-47b4-b639-a2bb0f6bbd88",
   "metadata": {},
   "outputs": [],
   "source": [
    "PRETRAIN_LEVEL = 'MGGA'\n",
    "\n",
    "TRAIN_NET = 'x'\n",
    "SS = True\n",
    "\n",
    "REFERENCE_XC = 'PBE0'\n",
    "\n",
    "N_HIDDEN = 16\n",
    "DEPTH = 3\n",
    "if PRETRAIN_LEVEL == 'GGA':\n",
    "    localx = xce.net.eX(n_input=1, n_hidden=N_HIDDEN, use=[1], depth=DEPTH, spin_scaling=SS, lob=1.804)\n",
    "    localc = xce.net.eC(n_input=3, n_hidden=N_HIDDEN, use=[2], depth=DEPTH, spin_scaling=SS, ueg_limit=True)\n",
    "elif PRETRAIN_LEVEL == 'MGGA':\n",
    "    localx = xce.net.eX(n_input=2, n_hidden=N_HIDDEN, use=[1, 2], depth=DEPTH, ueg_limit=True, spin_scaling=SS, lob=1.174)\n",
    "    localc = xce.net.eC(n_input=4, n_hidden=N_HIDDEN, depth=DEPTH, use=[2,3], spin_scaling=SS, ueg_limit=True)\n",
    "elif PRETRAIN_LEVEL == 'NONLOCAL':\n",
    "    localx = xce.net.eX(n_input=18, n_hidden=N_HIDDEN, depth=DEPTH, ueg_limit=True, spin_scaling=SS, lob=1.174)\n",
    "    #n_input = 4 from base, 12 from NL\n",
    "    localc = xce.net.eC(n_input=16, n_hidden=N_HIDDEN, depth=DEPTH, spin_scaling=SS, ueg_limit=True)\n",
    "\n",
    "if TRAIN_NET == 'x':\n",
    "    thislocal = localx\n",
    "else:\n",
    "    thislocal = localc\n",
    "ueg = xce.xc.LDA_X()\n",
    "xc = xce.xc.eXC(grid_models=[thislocal], heg_mult=True, level= {'GGA':2, 'MGGA':3, 'NONLOCAL':4}[PRETRAIN_LEVEL])"
   ]
  },
  {
   "cell_type": "code",
   "execution_count": 40,
   "id": "fc935919-401c-449d-aca9-e423cf20792d",
   "metadata": {},
   "outputs": [
    {
     "name": "stdout",
     "output_type": "stream",
     "text": [
      "<pyscf.gto.mole.Mole object at 0x7faf7d50f940> P [['P', array([0., 0., 0.])]] 1\n",
      "<pyscf.gto.mole.Mole object at 0x7faf7d8af1f0> N [['N', array([0., 0., 0.])]] 1\n",
      "<pyscf.gto.mole.Mole object at 0x7faf7d8ad0c0> H [['H', array([0., 0., 0.])]] 1\n",
      "<pyscf.gto.mole.Mole object at 0x7faf7d8ae860> Li [['Li', array([0., 0., 0.])]] 1\n",
      "<pyscf.gto.mole.Mole object at 0x7faf7d8af190> O [['O', array([0., 0., 0.])]] 1\n",
      "<pyscf.gto.mole.Mole object at 0x7faf7d8afc10> Cl [['Cl', array([0., 0., 0.])]] 1\n",
      "<pyscf.gto.mole.Mole object at 0x7faf7d8ac430> Al [['Al', array([0., 0., 0.])]] 1\n",
      "<pyscf.gto.mole.Mole object at 0x7faf7d8af310> S [['S', array([0., 0., 0.])]] 1\n",
      "<pyscf.gto.mole.Mole object at 0x7faf7d8ad8a0> FLi [['Li', array([ 0.      ,  0.      , -1.172697])], ['F', array([0.      , 0.      , 0.390899])]] 2\n",
      "<pyscf.gto.mole.Mole object at 0x7faf7d8ac8e0> CHN [['C', array([ 0.      ,  0.      , -0.499686])], ['N', array([0.      , 0.      , 0.652056])], ['H', array([ 0.        ,  0.        , -1.56627401])]] 3\n",
      "<pyscf.gto.mole.Mole object at 0x7faf7d8ae5c0> CO2 [['C', array([0., 0., 0.])], ['O', array([0.      , 0.      , 1.162879])], ['O', array([ 0.      ,  0.      , -1.162879])]] 3\n",
      "<pyscf.gto.mole.Mole object at 0x7faf7d8adcc0> Cl2 [['Cl', array([0.      , 0.      , 1.008241])], ['Cl', array([ 0.      ,  0.      , -1.008241])]] 2\n",
      "<pyscf.gto.mole.Mole object at 0x7faf7d8ae470> F2 [['F', array([0.      , 0.      , 0.693963])], ['F', array([ 0.      ,  0.      , -0.693963])]] 2\n",
      "<pyscf.gto.mole.Mole object at 0x7faf7d8ac490> O2 [['O', array([0.      , 0.      , 0.603195])], ['O', array([ 0.      ,  0.      , -0.603195])]] 2\n",
      "<pyscf.gto.mole.Mole object at 0x7faf7d8ad510> C2H2 [['C', array([0.      , 0.      , 0.599454])], ['C', array([ 0.      ,  0.      , -0.599454])], ['H', array([ 0.        ,  0.        , -1.66162301])], ['H', array([0.        , 0.        , 1.66162301])]] 4\n",
      "<pyscf.gto.mole.Mole object at 0x7faf7d8add50> CO [['O', array([0.      , 0.      , 0.484676])], ['C', array([ 0.      ,  0.      , -0.646235])]] 2\n",
      "<pyscf.gto.mole.Mole object at 0x7faf7d8aff40> HCl [['Cl', array([0.      , 0.      , 0.071315])], ['H', array([ 0.      ,  0.      , -1.212358])]] 2\n",
      "<pyscf.gto.mole.Mole object at 0x7faf7db9f160> HLi [['Li', array([0.      , 0.      , 0.403632])], ['H', array([ 0.      ,  0.      , -1.210897])]] 2\n",
      "<pyscf.gto.mole.Mole object at 0x7faf7db9fa30> Na2 [['Na', array([0.        , 0.        , 1.50747901])], ['Na', array([ 0.        ,  0.        , -1.50747901])]] 2\n",
      "<pyscf.gto.mole.Mole object at 0x7faf7db9cdc0> AlCl3 [['Al', array([0., 0., 0.])], ['Cl', array([0.        , 2.08019101, 0.        ])], ['Cl', array([ 1.80149801, -1.040095  ,  0.        ])], ['Cl', array([-1.80149801, -1.040095  ,  0.        ])]] 4\n",
      "<pyscf.gto.mole.Mole object at 0x7faf7db9e620> H3P [['P', array([0.      , 0.      , 0.128906])], ['H', array([ 0.      ,  1.19333 , -0.644531])], ['H', array([ 1.033455, -0.596665, -0.644531])], ['H', array([-1.033455, -0.596665, -0.644531])]] 4\n",
      "<pyscf.gto.mole.Mole object at 0x7faf7db9ed70> Si2 [['Si', array([0.      , 0.      , 1.135214])], ['Si', array([ 0.      ,  0.      , -1.135214])]] 2\n",
      "<pyscf.gto.mole.Mole object at 0x7faf7db9e3b0> C4H6 [['C', array([0., 0., 0.])], ['H', array([0.630382, 0.630382, 0.630382])], ['H', array([-0.630382, -0.630382,  0.630382])], ['H', array([ 0.630382, -0.630382, -0.630382])], ['H', array([-0.630382,  0.630382, -0.630382])]] 5\n",
      "<pyscf.gto.mole.Mole object at 0x7faf7db9f0a0> CH4 [['C', array([0.      , 0.      , 0.179918])], ['H', array([ 0.      ,  0.855475, -0.539754])], ['H', array([ 0.      , -0.855475, -0.539754])]] 3\n",
      "<pyscf.gto.mole.Mole object at 0x7faf7d95ff40> CH6Si [['Si', array([0., 0., 0.])], ['H', array([0.855876, 0.855876, 0.855876])], ['H', array([-0.855876, -0.855876,  0.855876])], ['H', array([-0.855876,  0.855876, -0.855876])], ['H', array([ 0.855876, -0.855876, -0.855876])]] 5\n"
     ]
    }
   ],
   "source": [
    "spins = {\n",
    "    'Al': 1,\n",
    "    'B' : 1,\n",
    "    'Li': 1,\n",
    "    'Na': 1,\n",
    "    'Si': 2 ,\n",
    "    'Be':0,\n",
    "    'C': 2,\n",
    "    'Cl': 1,\n",
    "    'F': 1,\n",
    "    'H': 1,\n",
    "    'N': 3,\n",
    "    'O': 2,\n",
    "    'P': 3,\n",
    "    'S': 2\n",
    "}\n",
    "\n",
    "selection = [2, 113, 25, 18, 11, 17, 114, 121, 101, 0, 20, 26, 29, 67, 28, 110, 125, 10, 115, 89, 105, 50]\n",
    "try:\n",
    "    atoms = [read('/home/awills/Documents/Research/ogdpyscf/dpyscf/data/haunschild_g2/g2_97.traj',':')[s] for s in selection]\n",
    "except:\n",
    "    atoms = [read('/home/awills/Documents/Research/ogdpyscf/data/haunschild_g2/g2_97.traj',':')[s] for s in selection]\n",
    "ksr_atoms = atoms\n",
    "if PRETRAIN_LEVEL=='MGGA':\n",
    "    ksr_atoms = ksr_atoms[2:]\n",
    "ksr_atoms = [Atoms('P',info={'spin':3}), Atoms('N', info={'spin':3}), Atoms('H', info={'spin':1}),Atoms('Li', info={'spin':1}), Atoms('O',info={'spin':2}),Atoms('Cl',info={'spin':1}),Atoms('Al',info={'spin':1}), Atoms('S',info={'spin':2})] + ksr_atoms\n",
    "# ksr_atoms = [Atoms('H',info={'spin':1})]\n",
    "mols = [get_mol(atoms) for atoms in ksr_atoms]\n",
    "mols = [i for i in mols if len(i.atom) < 8]\n",
    "for idx, i in enumerate(mols):\n",
    "    print(i, ksr_atoms[idx].get_chemical_formula(), i.atom, len(i.atom))\n",
    "mols = mols[:1]"
   ]
  },
  {
   "cell_type": "code",
   "execution_count": 41,
   "id": "c09eb552-027d-4bcd-a3b0-7e7bb70c5a20",
   "metadata": {},
   "outputs": [
    {
     "name": "stdout",
     "output_type": "stream",
     "text": [
      "mol:  [['P', array([0., 0., 0.])]]\n"
     ]
    },
    {
     "name": "stderr",
     "output_type": "stream",
     "text": [
      "Warning: <pyscf.gto.mole.Mole object at 0x7faf7d50f940> must be initialized before calling SCF.\n",
      "Initialize <pyscf.gto.mole.Mole object at 0x7faf7d50f940> in UKS object of <class 'pyscf.dft.uks.UKS'>\n"
     ]
    },
    {
     "name": "stdout",
     "output_type": "stream",
     "text": [
      "converged SCF energy = -341.104145992717  <S^2> = 3.7502984  2S+1 = 4.0001492\n",
      "New DM shape: (2, 30, 30)\n",
      "ao.shape (10, 6320, 30)\n",
      "Exchange contribution only\n",
      "PBE0 detected. changing xc_func to be combination of HF and PBE\n",
      "0.25*HF + 0.75*PBE,\n",
      "spin scaling\n",
      "fxc with xc_func = [-1.02859844e-02 -2.86073945e-03 -4.09993757e-03 ... -7.11627837e+00\n",
      " -7.11627837e+00 -7.11627837e+00] = 0.25*HF + 0.75*PBE,\n",
      "rho_a.shape=(6, 6320), rho_b.shape=(6, 6320)\n",
      "fxc_a.shape=(6320,), fxc_b.shape=(6320,)\n",
      "mol.spin != 0 and sum(mol.nelec) > 1\n",
      "rho.shape=(6, 12640), fxc.shape=(12640,)\n",
      "get_data, dm shape = (2, 30, 30)\n",
      "ao_eval.shape=(4, 6320, 30)\n",
      "rho shape (4, 4, 2, 6320)\n",
      "rho_filt shape: (6320,)\n",
      "get descriptors tdrho.shape=(2, 6320, 3)\n",
      "mol.spin != 0 and sum(mol.nelec) > 1\n",
      "concatenating spin channels along axis=0\n",
      "tdrho.shape=(12640, 3)\n",
      "rho_filt.shape=(12640,)\n",
      "mol:  [['P', array([0., 0., 0.])]]\n",
      "converged SCF energy = -341.104145992718  <S^2> = 3.7502984  2S+1 = 4.0001492\n",
      "New DM shape: (2, 30, 30)\n",
      "ao.shape (10, 6320, 30)\n",
      "Correlation contribution only\n",
      "PBE0 detected. Changing correlation to be just PBE\n",
      ",pbe\n",
      "spin scaling\n",
      "fxc with xc_func = [-8.22089083e-10 -2.47502987e-10 -1.19310830e-07 ... -6.76429262e-02\n",
      " -6.76429262e-02 -6.76429262e-02] = ,pbe\n",
      "rho_a.shape=(6, 6320), rho_b.shape=(6, 6320)\n",
      "fxc_a.shape=(6320,), fxc_b.shape=(6320,)\n",
      "mol.spin != 0 and sum(mol.nelec) > 1\n",
      "rho.shape=(6, 12640), fxc.shape=(12640,)\n",
      "get_data, dm shape = (2, 30, 30)\n",
      "ao_eval.shape=(4, 6320, 30)\n",
      "rho shape (4, 4, 2, 6320)\n",
      "rho_filt shape: (6320,)\n",
      "get descriptors tdrho.shape=(2, 6320, 3)\n",
      "mol.spin != 0 and sum(mol.nelec) > 1\n",
      "concatenating spin channels along axis=0\n",
      "tdrho.shape=(12640, 3)\n",
      "rho_filt.shape=(12640,)\n"
     ]
    }
   ],
   "source": [
    "# data = [get_data(mol, xc_func=ref, full=i<14) for i,mol in enumerate(mols)]\n",
    "ref = 'PBE0'\n",
    "datax = [get_data_exc(mol, xcmodel=xc, xc_func=ref, localnet=localx, xorc='x') for i,mol in enumerate(mols)]\n",
    "datac = [get_data_exc(mol, xcmodel=xc, xc_func=ref, localnet=localc, xorc='c') for i,mol in enumerate(mols)]\n",
    "# "
   ]
  },
  {
   "cell_type": "code",
   "execution_count": 25,
   "id": "40a8a650-9770-407b-9021-fe565218ca4d",
   "metadata": {},
   "outputs": [
    {
     "data": {
      "text/plain": [
       "[Array([1.66533454e-15, 1.41553436e-15, 1.81105131e-15, ...,\n",
       "        6.21724894e-15, 6.21724894e-15, 6.21724894e-15], dtype=float64)]"
      ]
     },
     "execution_count": 25,
     "metadata": {},
     "output_type": "execute_result"
    }
   ],
   "source": [
    "[datax[i][1] - datac[i][1] for i in range(len(datax))]"
   ]
  },
  {
   "cell_type": "code",
   "execution_count": 23,
   "id": "376c3cd3-eae5-44c9-98ac-44a9683f6871",
   "metadata": {},
   "outputs": [
    {
     "ename": "IndexError",
     "evalue": "list index out of range",
     "output_type": "error",
     "traceback": [
      "\u001b[0;31m---------------------------------------------------------------------------\u001b[0m",
      "\u001b[0;31mIndexError\u001b[0m                                Traceback (most recent call last)",
      "Cell \u001b[0;32mIn[23], line 1\u001b[0m\n\u001b[0;32m----> 1\u001b[0m \u001b[43mdatax\u001b[49m\u001b[43m[\u001b[49m\u001b[38;5;241;43m1\u001b[39;49m\u001b[43m]\u001b[49m\n",
      "\u001b[0;31mIndexError\u001b[0m: list index out of range"
     ]
    }
   ],
   "source": [
    "datax[1]"
   ]
  },
  {
   "cell_type": "code",
   "execution_count": 8,
   "id": "bc169608-15d5-414f-921e-d3d27838f25c",
   "metadata": {
    "scrolled": true
   },
   "outputs": [],
   "source": [
    "# data = [get_data_synth(ref, 100)]\n",
    "tdrho = jnp.concatenate([d[0] for d in data], axis=1)\n",
    "tFxc = jnp.concatenate([d[1] for d in data])"
   ]
  },
  {
   "cell_type": "code",
   "execution_count": 11,
   "id": "3c6f7608-0e92-4bbb-83ec-df1972231140",
   "metadata": {},
   "outputs": [
    {
     "data": {
      "text/plain": [
       "(2, 258825)"
      ]
     },
     "execution_count": 11,
     "metadata": {},
     "output_type": "execute_result"
    }
   ],
   "source": [
    "nan_filt.shape"
   ]
  },
  {
   "cell_type": "code",
   "execution_count": 13,
   "id": "f7f45ce9-18ef-4535-868c-cf66adc06778",
   "metadata": {},
   "outputs": [],
   "source": [
    "nan_filt = ~jnp.any((tdrho != tdrho),axis=-1)\n",
    "\n",
    "tFxc = tFxc[nan_filt[0, :]]\n",
    "tdrho = tdrho[nan_filt]"
   ]
  },
  {
   "cell_type": "code",
   "execution_count": 14,
   "id": "27650b8e-1d55-4408-a389-bad72f2ca469",
   "metadata": {},
   "outputs": [
    {
     "data": {
      "text/plain": [
       "((517650, 3),\n",
       " Array([[-3.32842976,  2.23725351,  1.44783222],\n",
       "        [-3.81180913,  2.88156858,  1.84297971],\n",
       "        [-2.97912881,  1.80658656,  1.05260213],\n",
       "        ...,\n",
       "        [-4.21483038,  3.0933172 ,  0.43034293],\n",
       "        [-4.25518687,  3.15235971,  0.11670809],\n",
       "        [-4.31527705,  3.09062045,  1.31631199]], dtype=float64),\n",
       " (258825,),\n",
       " Array([0.32315335, 0.3454216 , 0.27872126, ..., 0.3483771 , 0.3489568 ,\n",
       "        0.34849783], dtype=float64))"
      ]
     },
     "execution_count": 14,
     "metadata": {},
     "output_type": "execute_result"
    }
   ],
   "source": [
    "tdrho[::].shape, tdrho[::], tFxc.shape, tFxc"
   ]
  },
  {
   "cell_type": "code",
   "execution_count": 15,
   "id": "558c5fc1-a90c-4aff-af01-ca7bf3d06cd6",
   "metadata": {},
   "outputs": [],
   "source": [
    "cpus = jax.devices(backend='cpu')"
   ]
  },
  {
   "cell_type": "code",
   "execution_count": null,
   "id": "0c7d203a-8f97-4199-aade-437ce7c31426",
   "metadata": {},
   "outputs": [],
   "source": [
    "first_pred = jax.vmap(thislocal.net)(tdrho[...,thislocal.use])"
   ]
  },
  {
   "cell_type": "code",
   "execution_count": null,
   "id": "f5c117bf-abac-4653-ad80-fc623c68920d",
   "metadata": {
    "scrolled": true
   },
   "outputs": [],
   "source": [
    "PRINT_EVERY=200\n",
    "scheduler = optax.exponential_decay(init_value = 1e-2, transition_begin=50, transition_steps=500, decay_rate=0.9)\n",
    "# optimizer = optax.adam(learning_rate = 1e-2)\n",
    "optimizer = optax.adam(learning_rate = scheduler)\n",
    "\n",
    "class PT_E_Loss():\n",
    "\n",
    "    def __call__(self, model, inp, ref):\n",
    "\n",
    "        pred = jax.vmap(model.net)(inp)[:, 0]\n",
    "\n",
    "        err = pred-ref\n",
    "\n",
    "        return jnp.mean(jnp.square(err))\n",
    "\n",
    "trainer = xce.train.xcTrainer(model=thislocal, optim=optimizer, steps=500, loss = PT_E_Loss(), do_jit=True)\n",
    "if TRAIN_NET == 'x':\n",
    "    inp = [tdrho[..., trainer.model.use]]\n",
    "else:\n",
    "    inp = [tdrho]\n",
    "with jax.default_device(cpus[0]):\n",
    "    newm = trainer(1, trainer.model, inp, [tFxc])\n",
    "        \n",
    "\n",
    "# for epoch in range(100000):\n",
    "#     total_loss = 0\n",
    "#     results = thislocal(tdrho[::])\n",
    "#     loss = eloss(results, tFxc[::])\n",
    "#     total_loss += loss.item()\n",
    "#     loss.backward()\n",
    "\n",
    "#     optimizer.step()\n",
    "#     optimizer.zero_grad()\n",
    "#     if epoch%PRINT_EVERY==0:\n",
    "#         print('total loss {:.12f}'.format(total_loss))\n",
    "        \n"
   ]
  },
  {
   "cell_type": "code",
   "execution_count": null,
   "id": "26b79c6d-a7ac-4310-90eb-5d45460b3a7d",
   "metadata": {},
   "outputs": [],
   "source": [
    "best_pred = jax.vmap(newm.net)(tdrho[...,newm.use])[:, 0]"
   ]
  },
  {
   "cell_type": "code",
   "execution_count": null,
   "id": "33163195-38ed-4ad9-8d05-4b978d8be18e",
   "metadata": {},
   "outputs": [],
   "source": [
    "f = plt.figure()\n",
    "ax = f.add_subplot(111)\n",
    "sel = 1\n",
    "xs = np.arange(0, len(best_pred[::sel]))\n",
    "ax.grid()\n",
    "ax.scatter(xs, abs(best_pred[::sel]-tFxc[::sel]))\n",
    "# ax.scatter(best_pred[::sel], tFxc[::sel])\n",
    "rmse = np.sqrt( np.mean( (best_pred[::sel] - tFxc[::sel])**2))\n",
    "print(rmse)\n",
    "\n",
    "# ax.set_xlim(0, 1)\n",
    "# ax.set_ylim(0, 10)\n",
    "ax.set_yscale('log')\n",
    "ax.set_ylabel('|Pred. - Ref.|')\n",
    "ax.set_xlabel('Gridpoint Index')"
   ]
  },
  {
   "cell_type": "code",
   "execution_count": null,
   "id": "2fc3119d-885a-444c-ba47-80b711b7e675",
   "metadata": {},
   "outputs": [],
   "source": [
    "f = plt.figure()\n",
    "ax = f.add_subplot(111)\n",
    "sel = 1\n",
    "xs = np.arange(0, len(first_pred[::sel]))\n",
    "ax.grid()\n",
    "ax.scatter(xs, abs(first_pred.T[0][::sel]-tFxc[::sel]))\n",
    "rmse = np.sqrt( np.mean( (first_pred.T[0][::sel] - tFxc[::sel])**2))\n",
    "print(rmse)\n",
    "# ax.set_xlim(0, 1)\n",
    "# ax.set_ylim(-1, 1000)\n",
    "ax.set_yscale('log')\n",
    "ax.set_ylabel('|Pred. - Ref.|')\n",
    "ax.set_xlabel('Gridpoint Index')\n"
   ]
  },
  {
   "cell_type": "markdown",
   "id": "ee7a18df-22be-478a-a1ae-a3d844cd6b25",
   "metadata": {},
   "source": [
    "Below for nonlocal, not specifically shaped MGGA"
   ]
  },
  {
   "cell_type": "code",
   "execution_count": null,
   "id": "85d6e0f5-1c00-4415-a5a8-5ce4a11e55d8",
   "metadata": {},
   "outputs": [],
   "source": [
    "first_pred = jax.vmap(thislocal.net)(tdrho)"
   ]
  },
  {
   "cell_type": "code",
   "execution_count": null,
   "id": "b9299385-30f0-496b-8fbd-45a801ddc122",
   "metadata": {},
   "outputs": [],
   "source": [
    "first_pred.shape"
   ]
  },
  {
   "cell_type": "code",
   "execution_count": null,
   "id": "8e9414e8-b29d-4b8c-992b-8c2e03cd8d0e",
   "metadata": {},
   "outputs": [],
   "source": [
    "plt.scatter(first_pred[::100], tFxc[::100])"
   ]
  },
  {
   "cell_type": "code",
   "execution_count": null,
   "id": "43569386-5265-49c6-a3c6-12e898ad8129",
   "metadata": {},
   "outputs": [],
   "source": [
    "f = plt.figure()\n",
    "ax = f.add_subplot(111)\n",
    "\n",
    "ax.scatter(first_pred[::100], tFxc[::100])\n",
    "ax.set_xlim(0, 10)"
   ]
  },
  {
   "cell_type": "code",
   "execution_count": null,
   "id": "4b1ccd3b-745d-4e4b-96bd-8e8983c967b4",
   "metadata": {
    "scrolled": true
   },
   "outputs": [],
   "source": [
    "PRINT_EVERY=200\n",
    "scheduler = optax.exponential_decay(init_value = 1e-2, transition_begin=50, transition_steps=500, decay_rate=0.9)\n",
    "# optimizer = optax.adam(learning_rate = 1e-2)\n",
    "optimizer = optax.adam(learning_rate = scheduler)\n",
    "\n",
    "class PT_E_Loss():\n",
    "\n",
    "    def __call__(self, model, inp, ref):\n",
    "\n",
    "        pred = jax.vmap(model.net)(inp)[:, 0]\n",
    "\n",
    "        err = pred-ref\n",
    "\n",
    "        return jnp.mean(jnp.square(err))\n",
    "\n",
    "trainer = xce.train.xcTrainer(model=thislocal, optim=optimizer, steps=500, loss = PT_E_Loss(), do_jit=True)\n",
    "if TRAIN_NET == 'x':\n",
    "    inp = [tdrho[:, trainer.model.use]]\n",
    "else:\n",
    "    inp = [tdrho]\n",
    "with jax.default_device(cpus[0]):\n",
    "    newm = trainer(1, trainer.model, inp, [tFxc])\n",
    "        \n",
    "\n",
    "# for epoch in range(100000):\n",
    "#     total_loss = 0\n",
    "#     results = thislocal(tdrho[::])\n",
    "#     loss = eloss(results, tFxc[::])\n",
    "#     total_loss += loss.item()\n",
    "#     loss.backward()\n",
    "\n",
    "#     optimizer.step()\n",
    "#     optimizer.zero_grad()\n",
    "#     if epoch%PRINT_EVERY==0:\n",
    "#         print('total loss {:.12f}'.format(total_loss))\n",
    "        \n"
   ]
  },
  {
   "cell_type": "code",
   "execution_count": null,
   "id": "51954c21-1e19-45da-b5a6-0ec3a9d0855f",
   "metadata": {},
   "outputs": [],
   "source": [
    "new_pred = jax.vmap(newm.net)(tdrho).T[0]"
   ]
  },
  {
   "cell_type": "code",
   "execution_count": null,
   "id": "c5aadc56-b6bc-4599-ac9a-993cbfcdb264",
   "metadata": {},
   "outputs": [],
   "source": [
    "chkpts = sorted([i for i in os.listdir() if 'xc.eqx' in i], key=lambda x: int(x.split('.')[-1]))"
   ]
  },
  {
   "cell_type": "code",
   "execution_count": null,
   "id": "1b54e018-bb05-432a-b45b-591d21333214",
   "metadata": {},
   "outputs": [],
   "source": [
    "chkpts[-1]"
   ]
  },
  {
   "cell_type": "code",
   "execution_count": null,
   "id": "fc889fd2-758c-46cc-8c4f-63a69b3d8004",
   "metadata": {},
   "outputs": [],
   "source": [
    "bestnet = eqx.tree_deserialise_leaves(chkpts[-2], newm)"
   ]
  },
  {
   "cell_type": "code",
   "execution_count": null,
   "id": "243160ba-bc03-4fe0-93a4-147bebc3097d",
   "metadata": {},
   "outputs": [],
   "source": [
    "best_pred = jax.vmap(bestnet.net)(tdrho)[:, 0]"
   ]
  },
  {
   "cell_type": "code",
   "execution_count": null,
   "id": "1686526e-3686-4e69-a6ec-c89afb11f7bd",
   "metadata": {},
   "outputs": [],
   "source": [
    "f = plt.figure()\n",
    "ax = f.add_subplot(111)\n",
    "sel = 1\n",
    "xs = np.arange(0, len(best_pred[::sel]))\n",
    "ax.grid()\n",
    "ax.scatter(xs, abs(best_pred[::sel]-tFxc[::sel]))\n",
    "# ax.scatter(best_pred[::sel], tFxc[::sel])\n",
    "rmse = np.sqrt( np.mean( (best_pred[::sel] - tFxc[::sel])**2))\n",
    "print(rmse)\n",
    "\n",
    "# ax.set_xlim(0, 1)\n",
    "# ax.set_ylim(0, 10)\n",
    "ax.set_yscale('log')\n",
    "ax.set_ylabel('|Pred. - Ref.|')\n",
    "ax.set_xlabel('Gridpoint Index')\n"
   ]
  },
  {
   "cell_type": "code",
   "execution_count": null,
   "id": "4a18b225-db5e-4e9c-a4a5-92f7878542a7",
   "metadata": {},
   "outputs": [],
   "source": [
    "f = plt.figure()\n",
    "ax = f.add_subplot(111)\n",
    "sel = 1\n",
    "xs = np.arange(0, len(new_pred[::sel]))\n",
    "\n",
    "ax.scatter(xs, new_pred[::sel]-tFxc[::sel])\n",
    "rmse = np.sqrt( np.mean( (new_pred[::sel] - tFxc[::sel])**2))\n",
    "print(rmse)\n",
    "\n",
    "# ax.set_xlim(0, 1)\n",
    "ax.set_ylim(-1, 1)"
   ]
  },
  {
   "cell_type": "code",
   "execution_count": null,
   "id": "6827a887-16cb-440b-9f4a-c9d3791f65d6",
   "metadata": {},
   "outputs": [],
   "source": [
    "f = plt.figure()\n",
    "ax = f.add_subplot(111)\n",
    "sel = 1\n",
    "xs = np.arange(0, len(first_pred[::sel]))\n",
    "ax.grid()\n",
    "ax.scatter(xs, abs(first_pred.T[0][::sel]-tFxc[::sel]))\n",
    "rmse = np.sqrt( np.mean( (first_pred.T[0][::sel] - tFxc[::sel])**2))\n",
    "print(rmse)\n",
    "# ax.set_xlim(0, 1)\n",
    "# ax.set_ylim(-1, 1000)\n",
    "ax.set_yscale('log')\n",
    "ax.set_ylabel('|Pred. - Ref.|')\n",
    "ax.set_xlabel('Gridpoint Index')\n"
   ]
  },
  {
   "cell_type": "code",
   "execution_count": null,
   "id": "9aa4ade9-e611-486c-8044-80b78f59b40b",
   "metadata": {},
   "outputs": [],
   "source": []
  },
  {
   "cell_type": "code",
   "execution_count": null,
   "id": "16b3e3a2-4376-422a-84fe-69436f9f7725",
   "metadata": {},
   "outputs": [],
   "source": [
    "first_pred.shape"
   ]
  },
  {
   "cell_type": "code",
   "execution_count": null,
   "id": "3e718bf0-fab9-4463-8577-892186bd0291",
   "metadata": {},
   "outputs": [],
   "source": [
    "xs.shape, (new_pred[::sel]-tFxc[::sel]).shape"
   ]
  },
  {
   "cell_type": "code",
   "execution_count": null,
   "id": "0a23668c-93f7-4f2a-a7d1-b15045589ae8",
   "metadata": {},
   "outputs": [],
   "source": [
    "\n",
    "new_pred.shape, tFxc.shape"
   ]
  },
  {
   "cell_type": "code",
   "execution_count": null,
   "id": "654f8543-9ce6-4e4c-8113-5d9ff2787d9d",
   "metadata": {},
   "outputs": [],
   "source": []
  }
 ],
 "metadata": {
  "kernelspec": {
   "display_name": "Python 3 (ipykernel)",
   "language": "python",
   "name": "python3"
  },
  "language_info": {
   "codemirror_mode": {
    "name": "ipython",
    "version": 3
   },
   "file_extension": ".py",
   "mimetype": "text/x-python",
   "name": "python",
   "nbconvert_exporter": "python",
   "pygments_lexer": "ipython3",
   "version": "3.10.14"
  }
 },
 "nbformat": 4,
 "nbformat_minor": 5
}
