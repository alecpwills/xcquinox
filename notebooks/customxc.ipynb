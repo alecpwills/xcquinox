{
 "cells": [
  {
   "cell_type": "code",
   "execution_count": 1,
   "id": "7c41d2c6-12ac-41d3-89bf-9dde219eec1b",
   "metadata": {},
   "outputs": [
    {
     "name": "stdout",
     "output_type": "stream",
     "text": [
      "2.3.0\n"
     ]
    },
    {
     "name": "stderr",
     "output_type": "stream",
     "text": [
      "/home/awills/anaconda3/envs/pyscfad/lib/python3.10/site-packages/pyscf/dft/libxc.py:773: UserWarning: Since PySCF-2.3, B3LYP (and B3P86) are changed to the VWN-RPA variant, the same to the B3LYP functional in Gaussian and ORCA (issue 1480). To restore the VWN5 definition, you can put the setting \"B3LYP_WITH_VWN5 = True\" in pyscf_conf.py\n",
      "  warnings.warn('Since PySCF-2.3, B3LYP (and B3P86) are changed to the VWN-RPA variant, '\n"
     ]
    }
   ],
   "source": [
    "import matplotlib.pyplot as plt\n",
    "import jax.numpy as jnp\n",
    "import jax\n",
    "import equinox as eqx\n",
    "import optax\n",
    "import numpy as np\n",
    "import pyscf\n",
    "from pyscf import dft, scf, gto\n",
    "import pylibxc\n",
    "import pyscfad.dft as dftad\n",
    "from jax import custom_jvp\n",
    "\n",
    "print(pyscf.__version__)"
   ]
  },
  {
   "cell_type": "markdown",
   "id": "22d7f88b-4e5e-424e-87d3-54daaebce8f3",
   "metadata": {},
   "source": [
    "# Building a Custom XC Functional"
   ]
  },
  {
   "cell_type": "markdown",
   "id": "7bd69cd9-683c-43f5-85f0-f8e21edea623",
   "metadata": {},
   "source": [
    "## An Interface to PySCF\n",
    "\n",
    "There is a brief description of how to customize an XC functional in PySCF [here](https://pyscf.org/user/dft.html). The github repo has further examples [here](https://github.com/pyscf/pyscf/blob/master/examples/dft/24-custom_xc_functional.py) and [here](https://github.com/pyscf/pyscf/blob/master/examples/dft/24-define_xc_functional.py). The prior focuses on custom combinations of existing functionals, while the latter focuses on truly custom functionals.\n",
    "\n",
    "This notebook will aim to walk through generating \"custom functionals\" for i) LDA and ii) PBE exchange energies that match PySCF predictions, to hopefully make it more clear how one structures the custom function."
   ]
  },
  {
   "cell_type": "markdown",
   "id": "345de259-1507-4d4a-b3f4-03d4a853a4da",
   "metadata": {},
   "source": [
    "## Libxc Nomenclature\n",
    "\n",
    "It is *very critical* to get the correct derivatives, as libxc's nomenclature is a bit confusing.\n",
    "\n",
    "For a given density, the components of `rho` are $$\\rho[0] = \\rho_\\uparrow,\\ \\ \\rho[1] = \\rho_\\downarrow.$$\n",
    "\n",
    "The total energy is given by $$E = \\int \\epsilon(\\mathbf{r})d^3r = \\int \\rho(\\mathbf{r})e(\\mathbf{r})d^3 r,$$\n",
    "\n",
    "where $\\epsilon$ is the *energy density per unit volume* and $e$ is the *energy density per unit particle*. \n",
    "\n",
    "**All of Libxc's expected derivative inputs are with respect to $\\epsilon$, which will be important to consider!**"
   ]
  },
  {
   "cell_type": "markdown",
   "id": "29e32d6d-75a3-4345-9ad2-0c88e8983b83",
   "metadata": {},
   "source": [
    "## LDA"
   ]
  },
  {
   "cell_type": "markdown",
   "id": "52bc55ae-ae0f-448c-9ae3-f44c9586d903",
   "metadata": {},
   "source": [
    "We first define the \"custom\" LDA exchange energy function."
   ]
  },
  {
   "cell_type": "code",
   "execution_count": 2,
   "id": "db7eede4-e1bd-4df2-9ec1-744019d6b736",
   "metadata": {},
   "outputs": [],
   "source": [
    "def custom_x(rho):\n",
    "    return -3/4*(3/np.pi)**(1/3)*np.sign(rho) * (np.abs(rho)) ** (1 / 3)"
   ]
  },
  {
   "cell_type": "markdown",
   "id": "c49df48c-9114-46a1-90f8-78776a194690",
   "metadata": {},
   "source": [
    "**CRITICALLY,** this is $e$ from above, **NOT** $\\epsilon$, so the functional derivatives will be of $\\rho$*`lda_x(rho)`!"
   ]
  },
  {
   "cell_type": "markdown",
   "id": "6ac339ab-7d09-4f15-b03f-d3d3462e5bf0",
   "metadata": {},
   "source": [
    "Now we define the molecule we wish to calculate and do a baseline LDA-exchange calculation."
   ]
  },
  {
   "cell_type": "code",
   "execution_count": 3,
   "id": "4f5b0d18-0334-4562-a4ed-d22ed97013a9",
   "metadata": {},
   "outputs": [
    {
     "name": "stdout",
     "output_type": "stream",
     "text": [
      "converged SCF energy = -75.1897796609274\n",
      "-75.18977966092743\n"
     ]
    }
   ],
   "source": [
    "mol = gto.M(\n",
    "    atom = '''\n",
    "    O  0.   0.       0.\n",
    "    H  0.   -0.757   0.587\n",
    "    H  0.   0.757    0.587 ''',\n",
    "    basis = 'ccpvdz')\n",
    "mol.build()\n",
    "mf = dft.RKS(mol)\n",
    "#pure pyscf calculation for reference to check that our custom function is correct\n",
    "mf.xc = 'lda_x,'\n",
    "mf.kernel()\n",
    "print(mf.e_tot)"
   ]
  },
  {
   "cell_type": "markdown",
   "id": "1ff3043e-3281-4141-8af1-114e2bde4632",
   "metadata": {},
   "source": [
    "Now, we can generate Pylibxc inputs to see that we will be generating the same data as Pylibxc expects."
   ]
  },
  {
   "cell_type": "code",
   "execution_count": 4,
   "id": "fceb4be1-6ac9-40c3-a2a9-30f08dc1659b",
   "metadata": {},
   "outputs": [
    {
     "name": "stdout",
     "output_type": "stream",
     "text": [
      "{'zk': array([[-1.53163542e-04, -8.31846414e-05, -1.51526401e-04, ...,\n",
      "        -4.92478424e+00, -4.92478424e+00, -4.92478424e+00]]), 'vrho': array([[-2.04218057e-04, -1.10912855e-04, -2.02035201e-04, ...,\n",
      "        -6.56637899e+00, -6.56637899e+00, -6.56637899e+00]])}\n"
     ]
    }
   ],
   "source": [
    "#generate functional\n",
    "func_lda_x = pylibxc.LibXCFunctional(\"lda_x\", \"unpolarized\")\n",
    "#grid data\n",
    "ao = dft.numint.eval_ao(mol, mf.grids.coords, deriv=0)\n",
    "dm = mf.make_rdm1()\n",
    "rho = dft.numint.eval_rho(mol, ao, dm, xctype='LDA')\n",
    "plxc_lda_x = func_lda_x.compute({'rho':rho})\n",
    "print(plxc_lda_x)"
   ]
  },
  {
   "cell_type": "code",
   "execution_count": 5,
   "id": "2f6dc6b3-7b1f-4b42-93b8-38cf633a8b87",
   "metadata": {},
   "outputs": [],
   "source": [
    "exc_x = custom_x(rho)\n",
    "vxc_x = (4/3)*exc_x"
   ]
  },
  {
   "cell_type": "code",
   "execution_count": 6,
   "id": "f4542df2-42c3-4511-a3b7-4f6a521628cb",
   "metadata": {},
   "outputs": [
    {
     "data": {
      "text/plain": [
       "(1.4089226552908693e-16, 2.1550787671829716e-16)"
      ]
     },
     "execution_count": 6,
     "metadata": {},
     "output_type": "execute_result"
    }
   ],
   "source": [
    "#THE 'zk' KEY ENTRY IS FOR e, NOT epsilon -- 'vrho' key is then (d/drho)(rho*e)\n",
    "np.mean(abs(exc_x-plxc_lda_x['zk'])), np.mean(abs(vxc_x-plxc_lda_x['vrho']))"
   ]
  },
  {
   "cell_type": "markdown",
   "id": "7559eaee-cbe5-46ec-9de6-86aeabe75c32",
   "metadata": {},
   "source": [
    "We must now define the custom `eval_xc` function we will use to overwrite PySCF's."
   ]
  },
  {
   "cell_type": "code",
   "execution_count": 7,
   "id": "79ec1a8f-88ec-421d-bc5b-8089e0ede7a6",
   "metadata": {},
   "outputs": [],
   "source": [
    "def eval_xc_lda(xc_code, rho, spin=0, relativity=0, deriv=1, omega=None, verbose=None):\n",
    "    #we only expect there to be a rho0 array, but I unpack it as (rho, deriv) here to be in line with the\n",
    "    #pyscf example -- the size of the 'rho' array depends on the xc type (LDA, GGA, etc.)\n",
    "    #so since LDA calculation, check for size first.\n",
    "    if len(rho.shape) > 1:\n",
    "        rho0, dx, dy, dz = rho[:4]\n",
    "    else:\n",
    "        rho0 = rho\n",
    "\n",
    "    #calculate the \"custom\" energy with rho -- THIS IS e\n",
    "    exc = custom_x(rho0)\n",
    "\n",
    "    #we don't care about derivatives yet\n",
    "    # but we can calculate vrho analytically -- vxc = (vrho, vgamma, vlapl, vtau)\n",
    "    vrho = (4/3)*exc\n",
    "    vxc = (vrho, None, None, None)\n",
    "    #or higher order terms, but we can calculate v2rho2 analytically\n",
    "    v2rho2 = (4/9)*exc/(rho+1e-10)\n",
    "    v2rhosigma = None\n",
    "    v2sigma2 = None\n",
    "    v2lapl2 = None\n",
    "    vtau2 = None\n",
    "    v2rholapl = None\n",
    "    v2rhotau = None\n",
    "    v2lapltau = None\n",
    "    v2sigmalapl = None\n",
    "    v2sigmatau = None\n",
    "    # 2nd order functional derivative\n",
    "    fxc = (v2rho2, v2rhosigma, v2sigma2, v2lapl2, vtau2, v2rholapl, v2rhotau, v2lapltau, v2sigmalapl, v2sigmatau)\n",
    "    #3rd order\n",
    "    kxc = None\n",
    "    \n",
    "    return exc, vxc, fxc, kxc\n"
   ]
  },
  {
   "cell_type": "markdown",
   "id": "0f2c845e-309e-469f-a773-e68570f006dd",
   "metadata": {},
   "source": [
    "Now we want to overwrite the standard driver function."
   ]
  },
  {
   "cell_type": "code",
   "execution_count": 8,
   "id": "051aaaec-28e1-4727-a270-88c2c8fe1d2b",
   "metadata": {},
   "outputs": [
    {
     "data": {
      "text/plain": [
       "\u001b[0;31mSignature:\u001b[0m \u001b[0mmf\u001b[0m\u001b[0;34m.\u001b[0m\u001b[0mdefine_xc_\u001b[0m\u001b[0;34m(\u001b[0m\u001b[0mdescription\u001b[0m\u001b[0;34m,\u001b[0m \u001b[0mxctype\u001b[0m\u001b[0;34m=\u001b[0m\u001b[0;34m'LDA'\u001b[0m\u001b[0;34m,\u001b[0m \u001b[0mhyb\u001b[0m\u001b[0;34m=\u001b[0m\u001b[0;36m0\u001b[0m\u001b[0;34m,\u001b[0m \u001b[0mrsh\u001b[0m\u001b[0;34m=\u001b[0m\u001b[0;34m(\u001b[0m\u001b[0;36m0\u001b[0m\u001b[0;34m,\u001b[0m \u001b[0;36m0\u001b[0m\u001b[0;34m,\u001b[0m \u001b[0;36m0\u001b[0m\u001b[0;34m)\u001b[0m\u001b[0;34m)\u001b[0m\u001b[0;34m\u001b[0m\u001b[0;34m\u001b[0m\u001b[0m\n",
       "\u001b[0;31mDocstring:\u001b[0m <no docstring>\n",
       "\u001b[0;31mSource:\u001b[0m   \n",
       "\u001b[0;32mdef\u001b[0m \u001b[0mdefine_xc_\u001b[0m\u001b[0;34m(\u001b[0m\u001b[0mks\u001b[0m\u001b[0;34m,\u001b[0m \u001b[0mdescription\u001b[0m\u001b[0;34m,\u001b[0m \u001b[0mxctype\u001b[0m\u001b[0;34m=\u001b[0m\u001b[0;34m'LDA'\u001b[0m\u001b[0;34m,\u001b[0m \u001b[0mhyb\u001b[0m\u001b[0;34m=\u001b[0m\u001b[0;36m0\u001b[0m\u001b[0;34m,\u001b[0m \u001b[0mrsh\u001b[0m\u001b[0;34m=\u001b[0m\u001b[0;34m(\u001b[0m\u001b[0;36m0\u001b[0m\u001b[0;34m,\u001b[0m\u001b[0;36m0\u001b[0m\u001b[0;34m,\u001b[0m\u001b[0;36m0\u001b[0m\u001b[0;34m)\u001b[0m\u001b[0;34m)\u001b[0m\u001b[0;34m:\u001b[0m\u001b[0;34m\u001b[0m\n",
       "\u001b[0;34m\u001b[0m    \u001b[0mlibxc\u001b[0m \u001b[0;34m=\u001b[0m \u001b[0mks\u001b[0m\u001b[0;34m.\u001b[0m\u001b[0m_numint\u001b[0m\u001b[0;34m.\u001b[0m\u001b[0mlibxc\u001b[0m\u001b[0;34m\u001b[0m\n",
       "\u001b[0;34m\u001b[0m    \u001b[0mks\u001b[0m\u001b[0;34m.\u001b[0m\u001b[0m_numint\u001b[0m \u001b[0;34m=\u001b[0m \u001b[0mlibxc\u001b[0m\u001b[0;34m.\u001b[0m\u001b[0mdefine_xc_\u001b[0m\u001b[0;34m(\u001b[0m\u001b[0mks\u001b[0m\u001b[0;34m.\u001b[0m\u001b[0m_numint\u001b[0m\u001b[0;34m,\u001b[0m \u001b[0mdescription\u001b[0m\u001b[0;34m,\u001b[0m \u001b[0mxctype\u001b[0m\u001b[0;34m,\u001b[0m \u001b[0mhyb\u001b[0m\u001b[0;34m,\u001b[0m \u001b[0mrsh\u001b[0m\u001b[0;34m)\u001b[0m\u001b[0;34m\u001b[0m\n",
       "\u001b[0;34m\u001b[0m    \u001b[0;32mreturn\u001b[0m \u001b[0mks\u001b[0m\u001b[0;34m\u001b[0m\u001b[0;34m\u001b[0m\u001b[0m\n",
       "\u001b[0;31mFile:\u001b[0m      ~/anaconda3/envs/pyscfad/lib/python3.10/site-packages/pyscf/dft/rks.py\n",
       "\u001b[0;31mType:\u001b[0m      method"
      ]
     },
     "metadata": {},
     "output_type": "display_data"
    }
   ],
   "source": [
    "mf.define_xc_??"
   ]
  },
  {
   "cell_type": "code",
   "execution_count": 9,
   "id": "47473583-94b1-4247-8c4c-14999d66a603",
   "metadata": {
    "scrolled": true
   },
   "outputs": [
    {
     "name": "stdout",
     "output_type": "stream",
     "text": [
      "converged SCF energy = -75.1897796609274\n"
     ]
    },
    {
     "data": {
      "text/plain": [
       "-75.18977966092737"
      ]
     },
     "execution_count": 9,
     "metadata": {},
     "output_type": "execute_result"
    }
   ],
   "source": [
    "#overwrite the kernel's driver\n",
    "mfc = dft.RKS(mol)\n",
    "mfc = mfc.define_xc_(eval_xc_lda, 'LDA')\n",
    "mfc.kernel()"
   ]
  },
  {
   "cell_type": "code",
   "execution_count": 10,
   "id": "a9dd143c-91ce-423c-b442-325fe4caf26d",
   "metadata": {},
   "outputs": [
    {
     "name": "stdout",
     "output_type": "stream",
     "text": [
      "5.684341886080802e-14\n"
     ]
    }
   ],
   "source": [
    "print(abs(mf.e_tot - mfc.e_tot))"
   ]
  },
  {
   "cell_type": "markdown",
   "id": "285f3e71-ac5f-4be7-8fb5-63d82975c30d",
   "metadata": {},
   "source": [
    "So we've successfully re-created the LDA exchange energy via a custom functional. Now let's do the same, but using jax and it's autodifferentiation capabilities."
   ]
  },
  {
   "cell_type": "code",
   "execution_count": 11,
   "id": "2570e22d-04e5-422f-9835-8ef814476e65",
   "metadata": {},
   "outputs": [],
   "source": [
    "def custom_x_j(rho):\n",
    "    #this is e\n",
    "    return -3/4*(3/np.pi)**(1/3)*jnp.sign(rho) * (jnp.abs(rho)) ** (1 / 3)\n",
    "def custom_x_rho_j(rho):\n",
    "    #this is epsilon\n",
    "    return (rho)*(-3/4*(3/np.pi)**(1/3)*jnp.sign(rho) * (jnp.abs(rho)) ** (1 / 3))\n",
    "\n",
    "def eval_xc_lda_j(xc_code, rho, spin=0, relativity=0, deriv=1, omega=None, verbose=None):\n",
    "    #we only expect there to be a rho0 array, but I unpack it as (rho, deriv) here to be in line with the\n",
    "    #pyscf example -- the size of the 'rho' array depends on the xc type (LDA, GGA, etc.)\n",
    "    #so since LDA calculation, check for size first.\n",
    "    if len(rho.shape) > 1:\n",
    "        rho0, dx, dy, dz = rho[:4]\n",
    "    else:\n",
    "        rho0 = rho\n",
    "\n",
    "    #calculate the \"custom\" energy with rho -- THIS IS e\n",
    "    #cast back to np.array since that's what pyscf works with\n",
    "    exc = np.array(jax.vmap(custom_x_j)(rho0))\n",
    "\n",
    "    #we don't care about derivatives yet\n",
    "    # but we can calculate vrho automatically -- vxc = (vrho, vgamma, vlapl, vtau)\n",
    "    vrho_f = eqx.filter_grad(custom_x_rho_j)\n",
    "    vrho = np.array(jax.vmap(vrho_f)(rho0))\n",
    "    vxc = (vrho, None, None, None)\n",
    "    #or higher order terms, but we can calculate v2rho2 analytically\n",
    "    v2rho2_f = eqx.filter_hessian(custom_x_rho_j)\n",
    "    v2rho2 = np.array(jax.vmap(v2rho2_f)(rho))\n",
    "    v2rhosigma = None\n",
    "    v2sigma2 = None\n",
    "    v2lapl2 = None\n",
    "    vtau2 = None\n",
    "    v2rholapl = None\n",
    "    v2rhotau = None\n",
    "    v2lapltau = None\n",
    "    v2sigmalapl = None\n",
    "    v2sigmatau = None\n",
    "    # 2nd order functional derivative\n",
    "    fxc = (v2rho2, v2rhosigma, v2sigma2, v2lapl2, vtau2, v2rholapl, v2rhotau, v2lapltau, v2sigmalapl, v2sigmatau)\n",
    "    #3rd order\n",
    "    kxc = None\n",
    "    \n",
    "    return exc, vxc, fxc, kxc\n"
   ]
  },
  {
   "cell_type": "code",
   "execution_count": 14,
   "id": "26e43b72-285b-41fd-b7a7-4c8d18c16747",
   "metadata": {},
   "outputs": [
    {
     "name": "stdout",
     "output_type": "stream",
     "text": [
      "converged SCF energy = -75.1897796609274\n"
     ]
    },
    {
     "data": {
      "text/plain": [
       "-75.18977966092739"
      ]
     },
     "execution_count": 14,
     "metadata": {},
     "output_type": "execute_result"
    }
   ],
   "source": [
    "#overwrite the kernel's driver\n",
    "mfcj = dft.RKS(mol)\n",
    "mfcj = mfcj.define_xc_(eval_xc_lda_j, 'LDA')\n",
    "mfcj.kernel()"
   ]
  },
  {
   "cell_type": "code",
   "execution_count": 17,
   "id": "35e0d1d2-aa91-4ba1-b1ca-75e4b10e90e5",
   "metadata": {},
   "outputs": [
    {
     "data": {
      "text/plain": [
       "(4.263256414560601e-14, 7.105427357601002e-14)"
      ]
     },
     "execution_count": 17,
     "metadata": {},
     "output_type": "execute_result"
    }
   ],
   "source": [
    "abs(mf.e_tot - mfcj.e_tot), abs(mfc.e_tot - mfcj.e_tot)"
   ]
  },
  {
   "cell_type": "markdown",
   "id": "a719bfcc-826c-4a16-807d-b018c458f482",
   "metadata": {},
   "source": [
    "So we've re-created the LDA exchange functional via i) a custom, analytic functional which we can manually take derivatives of, and ii) a custom, auto-differentiable functional where we only specify $e$ and $\\epsilon$ and rely on jax to differentiate for us."
   ]
  },
  {
   "cell_type": "markdown",
   "id": "3d5aeddb-e931-4cbf-8022-4cf55b76b015",
   "metadata": {},
   "source": [
    "## GGA\n",
    "\n",
    "[TO DO]"
   ]
  },
  {
   "cell_type": "code",
   "execution_count": null,
   "id": "76dea138-32c6-4c4e-a4f6-4081ef8ed977",
   "metadata": {},
   "outputs": [],
   "source": []
  }
 ],
 "metadata": {
  "kernelspec": {
   "display_name": "Python 3 (ipykernel)",
   "language": "python",
   "name": "python3"
  },
  "language_info": {
   "codemirror_mode": {
    "name": "ipython",
    "version": 3
   },
   "file_extension": ".py",
   "mimetype": "text/x-python",
   "name": "python",
   "nbconvert_exporter": "python",
   "pygments_lexer": "ipython3",
   "version": "3.10.14"
  }
 },
 "nbformat": 4,
 "nbformat_minor": 5
}
