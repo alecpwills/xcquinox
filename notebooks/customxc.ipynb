{
 "cells": [
  {
   "cell_type": "code",
   "execution_count": 1,
   "id": "7c41d2c6-12ac-41d3-89bf-9dde219eec1b",
   "metadata": {},
   "outputs": [
    {
     "name": "stdout",
     "output_type": "stream",
     "text": [
      "2.3.0\n"
     ]
    },
    {
     "name": "stderr",
     "output_type": "stream",
     "text": [
      "/home/awills/anaconda3/envs/pyscfad/lib/python3.10/site-packages/pyscf/dft/libxc.py:773: UserWarning: Since PySCF-2.3, B3LYP (and B3P86) are changed to the VWN-RPA variant, the same to the B3LYP functional in Gaussian and ORCA (issue 1480). To restore the VWN5 definition, you can put the setting \"B3LYP_WITH_VWN5 = True\" in pyscf_conf.py\n",
      "  warnings.warn('Since PySCF-2.3, B3LYP (and B3P86) are changed to the VWN-RPA variant, '\n"
     ]
    }
   ],
   "source": [
    "import matplotlib.pyplot as plt\n",
    "import jax.numpy as jnp\n",
    "import jax\n",
    "import equinox as eqx\n",
    "import optax\n",
    "import numpy as np\n",
    "import pyscf\n",
    "from pyscf import dft, scf, gto\n",
    "import pylibxc\n",
    "import pyscfad.dft as dftad\n",
    "from jax import custom_jvp\n",
    "\n",
    "print(pyscf.__version__)"
   ]
  },
  {
   "cell_type": "markdown",
   "id": "22d7f88b-4e5e-424e-87d3-54daaebce8f3",
   "metadata": {},
   "source": [
    "# Building a Custom XC Functional"
   ]
  },
  {
   "cell_type": "markdown",
   "id": "7bd69cd9-683c-43f5-85f0-f8e21edea623",
   "metadata": {},
   "source": [
    "## An Interface to PySCF\n",
    "\n",
    "There is a brief description of how to customize an XC functional in PySCF [here](https://pyscf.org/user/dft.html). The github repo has further examples [here](https://github.com/pyscf/pyscf/blob/master/examples/dft/24-custom_xc_functional.py) and [here](https://github.com/pyscf/pyscf/blob/master/examples/dft/24-define_xc_functional.py). The prior focuses on custom combinations of existing functionals, while the latter focuses on truly custom functionals.\n",
    "\n",
    "This notebook will aim to walk through generating \"custom functionals\" for i) LDA and ii) PBE exchange energies that match PySCF predictions, to hopefully make it more clear how one structures the custom function."
   ]
  },
  {
   "cell_type": "markdown",
   "id": "345de259-1507-4d4a-b3f4-03d4a853a4da",
   "metadata": {},
   "source": [
    "## Libxc Nomenclature\n",
    "\n",
    "It is *very critical* to get the correct derivatives, as libxc's nomenclature is a bit confusing.\n",
    "\n",
    "For a given density, the components of `rho` are $$\\rho[0] = \\rho_\\uparrow,\\ \\ \\rho[1] = \\rho_\\downarrow.$$\n",
    "\n",
    "The total energy is given by $$E = \\int \\epsilon(\\mathbf{r})d^3r = \\int \\rho(\\mathbf{r})e(\\mathbf{r})d^3 r,$$\n",
    "\n",
    "where $\\epsilon$ is the *energy density per unit volume* and $e$ is the *energy density per unit particle*. \n",
    "\n",
    "**All of Libxc's expected derivative inputs are with respect to $\\epsilon$, which will be important to consider!**"
   ]
  },
  {
   "cell_type": "markdown",
   "id": "29e32d6d-75a3-4345-9ad2-0c88e8983b83",
   "metadata": {},
   "source": [
    "## LDA"
   ]
  },
  {
   "cell_type": "markdown",
   "id": "6ac339ab-7d09-4f15-b03f-d3d3462e5bf0",
   "metadata": {},
   "source": [
    "First, we define the molecule we wish to calculate and do a baseline LDA-exchange calculation."
   ]
  },
  {
   "cell_type": "code",
   "execution_count": 3,
   "id": "4f5b0d18-0334-4562-a4ed-d22ed97013a9",
   "metadata": {},
   "outputs": [
    {
     "name": "stdout",
     "output_type": "stream",
     "text": [
      "converged SCF energy = -75.1897796609274\n",
      "-75.18977966092743\n"
     ]
    }
   ],
   "source": [
    "mol = gto.M(\n",
    "    atom = '''\n",
    "    O  0.   0.       0.\n",
    "    H  0.   -0.757   0.587\n",
    "    H  0.   0.757    0.587 ''',\n",
    "    basis = 'ccpvdz')\n",
    "mol.build()\n",
    "mf = dft.RKS(mol)\n",
    "#pure pyscf calculation for reference to check that our custom function is correct\n",
    "mf.xc = 'lda_x,'\n",
    "mf.kernel()\n",
    "print(mf.e_tot)"
   ]
  },
  {
   "cell_type": "markdown",
   "id": "52bc55ae-ae0f-448c-9ae3-f44c9586d903",
   "metadata": {},
   "source": [
    "We now define the \"custom\" LDA exchange energy function."
   ]
  },
  {
   "cell_type": "code",
   "execution_count": 21,
   "id": "db7eede4-e1bd-4df2-9ec1-744019d6b736",
   "metadata": {},
   "outputs": [],
   "source": [
    "def custom_lda_x(rho):\n",
    "    return -3/4*(3/np.pi)**(1/3)*np.sign(rho) * (np.abs(rho)) ** (1 / 3)"
   ]
  },
  {
   "cell_type": "markdown",
   "id": "c49df48c-9114-46a1-90f8-78776a194690",
   "metadata": {},
   "source": [
    "**CRITICALLY,** this is $e$ from above, **NOT** $\\epsilon$, so the functional derivatives will be of $\\rho$*`lda_x(rho)`!"
   ]
  },
  {
   "cell_type": "markdown",
   "id": "1ff3043e-3281-4141-8af1-114e2bde4632",
   "metadata": {},
   "source": [
    "Now, we can generate Pylibxc inputs to see that we will be generating the same data as Pylibxc expects."
   ]
  },
  {
   "cell_type": "code",
   "execution_count": 4,
   "id": "fceb4be1-6ac9-40c3-a2a9-30f08dc1659b",
   "metadata": {},
   "outputs": [
    {
     "name": "stdout",
     "output_type": "stream",
     "text": [
      "{'zk': array([[-1.53163542e-04, -8.31846414e-05, -1.51526401e-04, ...,\n",
      "        -4.92478424e+00, -4.92478424e+00, -4.92478424e+00]]), 'vrho': array([[-2.04218057e-04, -1.10912855e-04, -2.02035201e-04, ...,\n",
      "        -6.56637899e+00, -6.56637899e+00, -6.56637899e+00]])}\n"
     ]
    }
   ],
   "source": [
    "#generate functional\n",
    "func_lda_x = pylibxc.LibXCFunctional(\"lda_x\", \"unpolarized\")\n",
    "#grid data\n",
    "ao = dft.numint.eval_ao(mol, mf.grids.coords, deriv=0)\n",
    "dm = mf.make_rdm1()\n",
    "rho = dft.numint.eval_rho(mol, ao, dm, xctype='LDA')\n",
    "plxc_lda_x = func_lda_x.compute({'rho':rho})\n",
    "print(plxc_lda_x)"
   ]
  },
  {
   "cell_type": "code",
   "execution_count": 5,
   "id": "2f6dc6b3-7b1f-4b42-93b8-38cf633a8b87",
   "metadata": {},
   "outputs": [],
   "source": [
    "exc_x = custom_lda_x(rho)\n",
    "vxc_x = (4/3)*exc_x"
   ]
  },
  {
   "cell_type": "code",
   "execution_count": 6,
   "id": "f4542df2-42c3-4511-a3b7-4f6a521628cb",
   "metadata": {},
   "outputs": [
    {
     "data": {
      "text/plain": [
       "(1.4089226552908693e-16, 2.1550787671829716e-16)"
      ]
     },
     "execution_count": 6,
     "metadata": {},
     "output_type": "execute_result"
    }
   ],
   "source": [
    "#THE 'zk' KEY ENTRY IS FOR e, NOT epsilon -- 'vrho' key is then (d/drho)(rho*e)\n",
    "np.mean(abs(exc_x-plxc_lda_x['zk'])), np.mean(abs(vxc_x-plxc_lda_x['vrho']))"
   ]
  },
  {
   "cell_type": "markdown",
   "id": "7559eaee-cbe5-46ec-9de6-86aeabe75c32",
   "metadata": {},
   "source": [
    "We must now define the custom `eval_xc` function we will use to overwrite PySCF's."
   ]
  },
  {
   "cell_type": "code",
   "execution_count": 7,
   "id": "79ec1a8f-88ec-421d-bc5b-8089e0ede7a6",
   "metadata": {},
   "outputs": [],
   "source": [
    "def eval_xc_lda(xc_code, rho, spin=0, relativity=0, deriv=1, omega=None, verbose=None):\n",
    "    #we only expect there to be a rho0 array, but I unpack it as (rho, deriv) here to be in line with the\n",
    "    #pyscf example -- the size of the 'rho' array depends on the xc type (LDA, GGA, etc.)\n",
    "    #so since LDA calculation, check for size first.\n",
    "    if len(rho.shape) > 1:\n",
    "        rho0, dx, dy, dz = rho[:4]\n",
    "    else:\n",
    "        rho0 = rho\n",
    "\n",
    "    #calculate the \"custom\" energy with rho -- THIS IS e\n",
    "    exc = custom_lda_x(rho0)\n",
    "\n",
    "    #we don't care about derivatives yet\n",
    "    # but we can calculate vrho analytically -- vxc = (vrho, vgamma, vlapl, vtau)\n",
    "    vrho = (4/3)*exc\n",
    "    vxc = (vrho, None, None, None)\n",
    "    #or higher order terms, but we can calculate v2rho2 analytically\n",
    "    v2rho2 = (4/9)*exc/(rho+1e-10)\n",
    "    v2rhosigma = None\n",
    "    v2sigma2 = None\n",
    "    v2lapl2 = None\n",
    "    vtau2 = None\n",
    "    v2rholapl = None\n",
    "    v2rhotau = None\n",
    "    v2lapltau = None\n",
    "    v2sigmalapl = None\n",
    "    v2sigmatau = None\n",
    "    # 2nd order functional derivative\n",
    "    fxc = (v2rho2, v2rhosigma, v2sigma2, v2lapl2, vtau2, v2rholapl, v2rhotau, v2lapltau, v2sigmalapl, v2sigmatau)\n",
    "    #3rd order\n",
    "    kxc = None\n",
    "    \n",
    "    return exc, vxc, fxc, kxc\n"
   ]
  },
  {
   "cell_type": "markdown",
   "id": "0f2c845e-309e-469f-a773-e68570f006dd",
   "metadata": {},
   "source": [
    "Now we want to overwrite the standard driver function."
   ]
  },
  {
   "cell_type": "code",
   "execution_count": 8,
   "id": "051aaaec-28e1-4727-a270-88c2c8fe1d2b",
   "metadata": {},
   "outputs": [
    {
     "data": {
      "text/plain": [
       "\u001b[0;31mSignature:\u001b[0m \u001b[0mmf\u001b[0m\u001b[0;34m.\u001b[0m\u001b[0mdefine_xc_\u001b[0m\u001b[0;34m(\u001b[0m\u001b[0mdescription\u001b[0m\u001b[0;34m,\u001b[0m \u001b[0mxctype\u001b[0m\u001b[0;34m=\u001b[0m\u001b[0;34m'LDA'\u001b[0m\u001b[0;34m,\u001b[0m \u001b[0mhyb\u001b[0m\u001b[0;34m=\u001b[0m\u001b[0;36m0\u001b[0m\u001b[0;34m,\u001b[0m \u001b[0mrsh\u001b[0m\u001b[0;34m=\u001b[0m\u001b[0;34m(\u001b[0m\u001b[0;36m0\u001b[0m\u001b[0;34m,\u001b[0m \u001b[0;36m0\u001b[0m\u001b[0;34m,\u001b[0m \u001b[0;36m0\u001b[0m\u001b[0;34m)\u001b[0m\u001b[0;34m)\u001b[0m\u001b[0;34m\u001b[0m\u001b[0;34m\u001b[0m\u001b[0m\n",
       "\u001b[0;31mDocstring:\u001b[0m <no docstring>\n",
       "\u001b[0;31mSource:\u001b[0m   \n",
       "\u001b[0;32mdef\u001b[0m \u001b[0mdefine_xc_\u001b[0m\u001b[0;34m(\u001b[0m\u001b[0mks\u001b[0m\u001b[0;34m,\u001b[0m \u001b[0mdescription\u001b[0m\u001b[0;34m,\u001b[0m \u001b[0mxctype\u001b[0m\u001b[0;34m=\u001b[0m\u001b[0;34m'LDA'\u001b[0m\u001b[0;34m,\u001b[0m \u001b[0mhyb\u001b[0m\u001b[0;34m=\u001b[0m\u001b[0;36m0\u001b[0m\u001b[0;34m,\u001b[0m \u001b[0mrsh\u001b[0m\u001b[0;34m=\u001b[0m\u001b[0;34m(\u001b[0m\u001b[0;36m0\u001b[0m\u001b[0;34m,\u001b[0m\u001b[0;36m0\u001b[0m\u001b[0;34m,\u001b[0m\u001b[0;36m0\u001b[0m\u001b[0;34m)\u001b[0m\u001b[0;34m)\u001b[0m\u001b[0;34m:\u001b[0m\u001b[0;34m\u001b[0m\n",
       "\u001b[0;34m\u001b[0m    \u001b[0mlibxc\u001b[0m \u001b[0;34m=\u001b[0m \u001b[0mks\u001b[0m\u001b[0;34m.\u001b[0m\u001b[0m_numint\u001b[0m\u001b[0;34m.\u001b[0m\u001b[0mlibxc\u001b[0m\u001b[0;34m\u001b[0m\n",
       "\u001b[0;34m\u001b[0m    \u001b[0mks\u001b[0m\u001b[0;34m.\u001b[0m\u001b[0m_numint\u001b[0m \u001b[0;34m=\u001b[0m \u001b[0mlibxc\u001b[0m\u001b[0;34m.\u001b[0m\u001b[0mdefine_xc_\u001b[0m\u001b[0;34m(\u001b[0m\u001b[0mks\u001b[0m\u001b[0;34m.\u001b[0m\u001b[0m_numint\u001b[0m\u001b[0;34m,\u001b[0m \u001b[0mdescription\u001b[0m\u001b[0;34m,\u001b[0m \u001b[0mxctype\u001b[0m\u001b[0;34m,\u001b[0m \u001b[0mhyb\u001b[0m\u001b[0;34m,\u001b[0m \u001b[0mrsh\u001b[0m\u001b[0;34m)\u001b[0m\u001b[0;34m\u001b[0m\n",
       "\u001b[0;34m\u001b[0m    \u001b[0;32mreturn\u001b[0m \u001b[0mks\u001b[0m\u001b[0;34m\u001b[0m\u001b[0;34m\u001b[0m\u001b[0m\n",
       "\u001b[0;31mFile:\u001b[0m      ~/anaconda3/envs/pyscfad/lib/python3.10/site-packages/pyscf/dft/rks.py\n",
       "\u001b[0;31mType:\u001b[0m      method"
      ]
     },
     "metadata": {},
     "output_type": "display_data"
    }
   ],
   "source": [
    "mf.define_xc_??"
   ]
  },
  {
   "cell_type": "code",
   "execution_count": 9,
   "id": "47473583-94b1-4247-8c4c-14999d66a603",
   "metadata": {
    "scrolled": true
   },
   "outputs": [
    {
     "name": "stdout",
     "output_type": "stream",
     "text": [
      "converged SCF energy = -75.1897796609274\n"
     ]
    },
    {
     "data": {
      "text/plain": [
       "-75.18977966092737"
      ]
     },
     "execution_count": 9,
     "metadata": {},
     "output_type": "execute_result"
    }
   ],
   "source": [
    "#overwrite the kernel's driver\n",
    "mfc = dft.RKS(mol)\n",
    "mfc = mfc.define_xc_(eval_xc_lda, 'LDA')\n",
    "mfc.kernel()"
   ]
  },
  {
   "cell_type": "code",
   "execution_count": 10,
   "id": "a9dd143c-91ce-423c-b442-325fe4caf26d",
   "metadata": {},
   "outputs": [
    {
     "name": "stdout",
     "output_type": "stream",
     "text": [
      "5.684341886080802e-14\n"
     ]
    }
   ],
   "source": [
    "print(abs(mf.e_tot - mfc.e_tot))"
   ]
  },
  {
   "cell_type": "markdown",
   "id": "285f3e71-ac5f-4be7-8fb5-63d82975c30d",
   "metadata": {},
   "source": [
    "So we've successfully re-created the LDA exchange energy via a custom functional. Now let's do the same, but using jax and it's autodifferentiation capabilities."
   ]
  },
  {
   "cell_type": "code",
   "execution_count": 11,
   "id": "2570e22d-04e5-422f-9835-8ef814476e65",
   "metadata": {},
   "outputs": [],
   "source": [
    "def custom_x_j(rho):\n",
    "    #this is e\n",
    "    return -3/4*(3/np.pi)**(1/3)*jnp.sign(rho) * (jnp.abs(rho)) ** (1 / 3)\n",
    "def custom_x_rho_j(rho):\n",
    "    #this is epsilon\n",
    "    return (rho)*(-3/4*(3/np.pi)**(1/3)*jnp.sign(rho) * (jnp.abs(rho)) ** (1 / 3))\n",
    "\n",
    "def eval_xc_lda_j(xc_code, rho, spin=0, relativity=0, deriv=1, omega=None, verbose=None):\n",
    "    #we only expect there to be a rho0 array, but I unpack it as (rho, deriv) here to be in line with the\n",
    "    #pyscf example -- the size of the 'rho' array depends on the xc type (LDA, GGA, etc.)\n",
    "    #so since LDA calculation, check for size first.\n",
    "    if len(rho.shape) > 1:\n",
    "        rho0, dx, dy, dz = rho[:4]\n",
    "    else:\n",
    "        rho0 = rho\n",
    "\n",
    "    #calculate the \"custom\" energy with rho -- THIS IS e\n",
    "    #cast back to np.array since that's what pyscf works with\n",
    "    exc = np.array(jax.vmap(custom_x_j)(rho0))\n",
    "    \n",
    "    #we don't care about derivatives yet\n",
    "    # but we can calculate vrho automatically -- vxc = (vrho, vgamma, vlapl, vtau)\n",
    "    vrho_f = eqx.filter_grad(custom_x_rho_j)\n",
    "    vrho = np.array(jax.vmap(vrho_f)(rho0))\n",
    "    vxc = (vrho, None, None, None)\n",
    "    #or higher order terms, but we can calculate v2rho2 automatically\n",
    "    v2rho2_f = eqx.filter_hessian(custom_x_rho_j)\n",
    "    v2rho2 = np.array(jax.vmap(v2rho2_f)(rho))\n",
    "    v2rhosigma = None\n",
    "    v2sigma2 = None\n",
    "    v2lapl2 = None\n",
    "    vtau2 = None\n",
    "    v2rholapl = None\n",
    "    v2rhotau = None\n",
    "    v2lapltau = None\n",
    "    v2sigmalapl = None\n",
    "    v2sigmatau = None\n",
    "    # 2nd order functional derivative\n",
    "    fxc = (v2rho2, v2rhosigma, v2sigma2, v2lapl2, vtau2, v2rholapl, v2rhotau, v2lapltau, v2sigmalapl, v2sigmatau)\n",
    "    #3rd order\n",
    "    kxc = None\n",
    "    \n",
    "    return exc, vxc, fxc, kxc\n"
   ]
  },
  {
   "cell_type": "code",
   "execution_count": 14,
   "id": "26e43b72-285b-41fd-b7a7-4c8d18c16747",
   "metadata": {},
   "outputs": [
    {
     "name": "stdout",
     "output_type": "stream",
     "text": [
      "converged SCF energy = -75.1897796609274\n"
     ]
    },
    {
     "data": {
      "text/plain": [
       "-75.18977966092739"
      ]
     },
     "execution_count": 14,
     "metadata": {},
     "output_type": "execute_result"
    }
   ],
   "source": [
    "#overwrite the kernel's driver\n",
    "mfcj = dft.RKS(mol)\n",
    "mfcj = mfcj.define_xc_(eval_xc_lda_j, 'LDA')\n",
    "mfcj.kernel()"
   ]
  },
  {
   "cell_type": "code",
   "execution_count": 17,
   "id": "35e0d1d2-aa91-4ba1-b1ca-75e4b10e90e5",
   "metadata": {},
   "outputs": [
    {
     "data": {
      "text/plain": [
       "(4.263256414560601e-14, 7.105427357601002e-14)"
      ]
     },
     "execution_count": 17,
     "metadata": {},
     "output_type": "execute_result"
    }
   ],
   "source": [
    "abs(mf.e_tot - mfcj.e_tot), abs(mfc.e_tot - mfcj.e_tot)"
   ]
  },
  {
   "cell_type": "markdown",
   "id": "a719bfcc-826c-4a16-807d-b018c458f482",
   "metadata": {},
   "source": [
    "So we've re-created the LDA exchange functional via i) a custom, analytic functional which we can manually take derivatives of, and ii) a custom, auto-differentiable functional where we only specify $e$ and $\\epsilon$ and rely on jax to differentiate for us."
   ]
  },
  {
   "cell_type": "markdown",
   "id": "3d5aeddb-e931-4cbf-8022-4cf55b76b015",
   "metadata": {},
   "source": [
    "## GGA\n",
    "\n",
    "Now we will try to implement a \"custom\" functional to reproduce PBE's energies.\n",
    "\n",
    "To start, we note that the [PBE XC energy](https://journals.aps.org/prl/abstract/10.1103/PhysRevLett.77.3865) is broken into two parts:\n",
    "\n",
    "$$E_X^\\mathrm{PBE} = \\int d^3r [\\rho\\cdot e_X^\\mathrm{HEG}]\\cdot F_X(s),$$ where $$s = \\frac{|\\nabla\\rho|}{2k_F\\rho}$$ and $$F_X(s) = 1+\\kappa - \\frac{\\kappa}{1+\\mu s^2/\\kappa},$$ for $\\kappa=0.804$ and $\\mu \\simeq 0.21951$.\n",
    "\n",
    "The correlation is given by $$E_C^\\mathrm{PBE} = \\int d^3r [\\rho\\cdot e_C^\\mathrm{HEG}(r_s,\\zeta)]\\cdot\\bigg[1+\\frac{H(r_s,\\zeta,t)}{e_C^\\mathrm{HEG}(r_s,\\zeta)}\\bigg]$$ for $$r_s = (\\frac{3}{4\\pi\\rho})^{1/3},\\ \\zeta = \\frac{\\rho_\\uparrow - \\rho_\\downarrow}{\\rho},\\ t = \\frac{|\\nabla\\rho|}{2\\phi(\\zeta)k_s\\rho},$$ and $$\\phi(\\zeta) = \\frac{1}{2}\\cdot[(1+\\zeta)^{2/3} + (1-\\zeta)^{2/3}],\\ k_s = \\sqrt{ \\frac{4k_F}{\\pi a_0}}.$$\n",
    "\n",
    "Here, $$H(r_s,\\zeta,t) = \\frac{e^2}{a_0}\\cdot \\gamma \\cdot \\phi^3 \\cdot \\ln\\bigg[1_+\\frac{\\beta}{\\gamma}t^2\\bigg( \\frac{1-At^2}{1+At^2+A^2t^4} \\bigg) \\bigg],$$ with $$A = \\frac{\\beta}{\\gamma} \\cdot \\bigg[ \\exp\\bigg(\\frac{-e_C^\\mathrm{HEG}a_0}{\\gamma\\phi^3 e^2}\\bigg)-1 \\bigg]^{-1}.$$ Here, $\\beta\\simeq 0.066725$ and $\\gamma\\simeq 0.031091$."
   ]
  },
  {
   "cell_type": "markdown",
   "id": "2a7f3331-fd73-44c9-83b1-99ad621e7d95",
   "metadata": {},
   "source": [
    "As a starting point, since it's easier I will do the PBE exchange energy. As before, we start with a baseline calculation for a reference energy."
   ]
  },
  {
   "cell_type": "code",
   "execution_count": 96,
   "id": "411462df-ba38-4a44-b53f-287a9186901a",
   "metadata": {},
   "outputs": [
    {
     "name": "stdout",
     "output_type": "stream",
     "text": [
      "converged SCF energy = -76.0026653855811\n",
      "-76.00266538558111\n"
     ]
    }
   ],
   "source": [
    "mol = gto.M(\n",
    "    atom = '''\n",
    "    O  0.   0.       0.\n",
    "    H  0.   -0.757   0.587\n",
    "    H  0.   0.757    0.587 ''',\n",
    "    basis = 'ccpvdz')\n",
    "mol.build()\n",
    "mfp = dft.RKS(mol)\n",
    "#pure pyscf calculation for reference to check that our custom function is correct\n",
    "mfp.xc = 'gga_x_pbe,'\n",
    "mfp.kernel()\n",
    "print(mfp.e_tot)"
   ]
  },
  {
   "cell_type": "markdown",
   "id": "b7ba5399-873b-4c86-b064-b21ddb1823f6",
   "metadata": {},
   "source": [
    "Since we are now in GGA territory, libxc will be expecting derivatives w.r.t. what they call $\\sigma$ and what PySCF calls $\\gamma$: $$\\sigma[0] = \\nabla\\rho_\\uparrow\\cdot \\nabla\\rho_\\uparrow, \\sigma[1] = \\nabla\\rho_\\uparrow\\cdot \\nabla\\rho_\\downarrow, \\sigma[2] = \\nabla\\rho_\\downarrow\\cdot \\nabla\\rho_\\downarrow,$$ thus for a spin-unpolarized calculation, $\\sigma = |\\nabla\\rho|^2$ -- this is important to keep in mind when doing functional derivatives."
   ]
  },
  {
   "cell_type": "markdown",
   "id": "413ab663-6275-4ce0-8cd5-28918b169f92",
   "metadata": {},
   "source": [
    "When coding up these functions, we want JAX to be able to give us the correct derivatives -- therefore, we should code using the inputs libxc will expect us to take derivatives of and translate to the appropriate values within the function (i.e., code up $F_X^\\mathrm{PBE}$ to expect the inputs of $(\\rho, \\sigma)$ and translate $\\sigma$ to $s$ internally."
   ]
  },
  {
   "cell_type": "code",
   "execution_count": 198,
   "id": "d3f4ffc5-d949-48fc-9699-208df564c537",
   "metadata": {},
   "outputs": [],
   "source": [
    "def custom_pbe_Fx(rho, sigma):\n",
    "    #Equation 14 from PBE paper -- DOI: 10.1103/PhysRevLett.77.3865\n",
    "    #THIS FLOOR SETTING MAKES VSIGMA ERROR MUCH HIGHER\n",
    "    # rho = jnp.maximum(1e-12, rho) #Prevents division by 0\n",
    "    k_F = (3 * jnp.pi**2 * rho)**(1/3)\n",
    "    s = jnp.sqrt(sigma) / (2 * k_F * rho)\n",
    "    kappa, mu = 0.804, 0.21951\n",
    "\n",
    "    Fx = 1 + kappa - kappa / (1 + mu * s**2 / kappa) #exchange enhancement factor\n",
    "\n",
    "    return Fx\n",
    "\n",
    "def custom_pbe_e(rho, sigma):\n",
    "    Fx = custom_pbe_Fx(rho, sigma)\n",
    "\n",
    "    exc = custom_x_j(rho)*Fx\n",
    "\n",
    "    return exc\n",
    "\n",
    "def custom_pbe_epsilon(rho, sigma):\n",
    "\n",
    "    return rho*custom_pbe_e(rho, sigma)"
   ]
  },
  {
   "cell_type": "markdown",
   "id": "277b71ca-a681-4ac4-ab89-796221cb1048",
   "metadata": {},
   "source": [
    "Per the [equinox documentation](https://docs.kidger.site/equinox/api/transformations/#automatic-differentiation), if we want derivatives w.r.t. both of the inputs (rho and sigma), we need to wrap these functions in one that unpacks a tuple passing them both."
   ]
  },
  {
   "cell_type": "code",
   "execution_count": 199,
   "id": "dda3da69-0ef7-4c91-b699-c53b8392e007",
   "metadata": {},
   "outputs": [],
   "source": [
    "def derivable_custom_pbe_e(rhosigma):\n",
    "    rho, sigma = rhosigma\n",
    "    return custom_pbe_e(rho, sigma)\n",
    "\n",
    "def derivable_custom_pbe_epsilon(rhosigma):\n",
    "    rho, sigma = rhosigma\n",
    "    return custom_pbe_epsilon(rho, sigma)"
   ]
  },
  {
   "cell_type": "markdown",
   "id": "fb7b3070-6af4-47b4-92ba-0bcc7b6550b6",
   "metadata": {},
   "source": [
    "With these defined, let us make sure we are getting the values we expect in comparison to libxc."
   ]
  },
  {
   "cell_type": "code",
   "execution_count": 200,
   "id": "8da1f7bc-86b8-4351-a5cf-858aaaf1f376",
   "metadata": {},
   "outputs": [
    {
     "name": "stdout",
     "output_type": "stream",
     "text": [
      "{'zk': array([[-2.76306989e-04, -1.50065087e-04, -2.73353587e-04, ...,\n",
      "        -4.92497656e+00, -4.92497656e+00, -4.92497656e+00]]), 'vrho': array([[-3.68409208e-04, -2.00086767e-04, -3.64471341e-04, ...,\n",
      "        -6.56612259e+00, -6.56612259e+00, -6.56612259e+00]]), 'vsigma': array([[-2.61510629e-01, -2.17081991e-01, -2.61465869e-01, ...,\n",
      "        -2.14186003e-06, -2.14186003e-06, -2.14186003e-06]])}\n"
     ]
    }
   ],
   "source": [
    "#generate functional\n",
    "func_gga_x = pylibxc.LibXCFunctional(\"gga_x_pbe\", \"unpolarized\")\n",
    "#grid data\n",
    "ao = dft.numint.eval_ao(mol, mf.grids.coords, deriv=1)\n",
    "dm = mf.make_rdm1()\n",
    "rho = dft.numint.eval_rho(mol, ao, dm, xctype='GGA')\n",
    "rho0, dx, dy, dz = rho\n",
    "sigma = dx**2+dy**2+dz**2\n",
    "plxc_gga_x = func_gga_x.compute({'rho':rho0, 'sigma':sigma})\n",
    "print(plxc_gga_x)"
   ]
  },
  {
   "cell_type": "code",
   "execution_count": 213,
   "id": "622669d4-058c-4827-b7d4-39e2a69919f5",
   "metadata": {},
   "outputs": [
    {
     "name": "stdout",
     "output_type": "stream",
     "text": [
      "Error statistics -- Libxc PBE e/vrho/vsigma vs. JAX auto-derived\n",
      "NO MINIMUM RHO\n",
      "-------------------------------------------------------------------------------\n",
      "---------------------------------------e---------------------------------------\n",
      "Maximum Absolute Error:  5.366654586058672e-06\n",
      "Mean Absolute Error:  5.862072795727476e-07\n",
      "---------------------------------------vrho---------------------------------------\n",
      "Maximum Absolute Error:  4.21578888687435e-06\n",
      "Mean Absolute Error:  4.4862803770546e-07\n",
      "---------------------------------------vsigma---------------------------------------\n",
      "Maximum Absolute Error:  0.00010551126643498776\n",
      "Mean Absolute Error:  8.737072305806912e-06\n"
     ]
    }
   ],
   "source": [
    "test_vrho_f = eqx.filter_grad(derivable_custom_pbe_epsilon)\n",
    "vrhosig = jax.vmap(test_vrho_f)( (rho0, sigma) )\n",
    "vrho, vsig = vrhosig\n",
    "#print out error stats\n",
    "titlestr = 'Error statistics -- Libxc PBE e/vrho/vsigma vs. JAX auto-derived'\n",
    "# titlestr += '\\nUSING MINIMUM RHO 1e-12'\n",
    "titlestr += '\\nNO MINIMUM RHO'\n",
    "print(titlestr)\n",
    "print(len(titlestr)*'-')\n",
    "\n",
    "print(len(titlestr)//2*'-'+'e'+len(titlestr)//2*'-')\n",
    "print('Maximum Absolute Error: ',np.max(abs(plxc_gga_x['zk'] - derivable_custom_pbe_e( (rho0, sigma)))))\n",
    "print('Mean Absolute Error: ',np.mean(abs(plxc_gga_x['zk'] - derivable_custom_pbe_e( (rho0, sigma)))))\n",
    "\n",
    "print(len(titlestr)//2*'-'+'vrho'+len(titlestr)//2*'-')\n",
    "print('Maximum Absolute Error: ', np.max(abs(plxc_gga_x['vrho'] - vrho )))\n",
    "print('Mean Absolute Error: ', np.mean(abs(plxc_gga_x['vrho'] - vrho )))\n",
    "\n",
    "print(len(titlestr)//2*'-'+'vsigma'+len(titlestr)//2*'-')\n",
    "print('Maximum Absolute Error: ', np.max(abs(plxc_gga_x['vsigma'] - vsig  )))\n",
    "print('Mean Absolute Error: ', np.mean(abs(plxc_gga_x['vsigma'] - vsig  )))"
   ]
  },
  {
   "cell_type": "markdown",
   "id": "1e5bf53d-b07c-4f15-bd5a-34fa1570b3fd",
   "metadata": {},
   "source": [
    "So it appears that our functions give us good $e$ and $v_\\rho$ values, but $v_\\sigma$ seems to have the most error. Let's examine the $\\rho$ and $\\sigma$ values where these errors are large to see any trends."
   ]
  },
  {
   "cell_type": "code",
   "execution_count": 214,
   "id": "447ddd93-4c40-4ba2-8c1c-a2dd32c1f6be",
   "metadata": {},
   "outputs": [
    {
     "name": "stdout",
     "output_type": "stream",
     "text": [
      "[12902]\n"
     ]
    }
   ],
   "source": [
    "vsigerr = abs(plxc_gga_x['vsigma'] - vsig)\n",
    "large_error_inds = np.where(vsigerr > 0.0001)[1]\n",
    "print(large_error_inds)"
   ]
  },
  {
   "cell_type": "code",
   "execution_count": 215,
   "id": "7530833a-f56a-43f6-9f32-d40df7832b83",
   "metadata": {},
   "outputs": [
    {
     "name": "stdout",
     "output_type": "stream",
     "text": [
      "[9.37650318e-11]\n",
      "[3.7172212e-20]\n"
     ]
    }
   ],
   "source": [
    "rhoind = rho0[large_error_inds]\n",
    "sigind = sigma[large_error_inds]\n",
    "print(rhoind)\n",
    "print(sigind)"
   ]
  },
  {
   "cell_type": "markdown",
   "id": "54ecc2f9-dae7-4f53-86be-15313e1d1b90",
   "metadata": {},
   "source": [
    "**CONCLUSION**: Prior to some edits, the maximum absolute error for $v_\\sigma$ was $\\sim 24$, which was huge. Commenting out the line in `custom_pbe_Fx` that set the minimum `rho` value to be `1e-12` brought this maximum error down to 1e-4."
   ]
  },
  {
   "cell_type": "markdown",
   "id": "b7dcdf8e-3f43-49e0-8d8e-597bdd1c88d0",
   "metadata": {},
   "source": [
    "Now we build the custom functional driver."
   ]
  },
  {
   "cell_type": "code",
   "execution_count": 210,
   "id": "5cb7656b-500c-444e-bac6-5d306b1f0e79",
   "metadata": {},
   "outputs": [],
   "source": [
    "def eval_xc_gga_j(xc_code, rho, spin=0, relativity=0, deriv=1, omega=None, verbose=None):\n",
    "    #we only expect there to be a rho0 array, but I unpack it as (rho, deriv) here to be in line with the\n",
    "    #pyscf example -- the size of the 'rho' array depends on the xc type (LDA, GGA, etc.)\n",
    "    #so since LDA calculation, check for size first.\n",
    "    rho0, dx, dy, dz = rho[:4]\n",
    "    rho0 = jnp.array(rho0)\n",
    "    sigma = jnp.array(dx**2+dy**2+dz**2)\n",
    "\n",
    "    rhosig = (rho0, sigma)\n",
    "    #calculate the \"custom\" energy with rho -- THIS IS e\n",
    "    #cast back to np.array since that's what pyscf works with\n",
    "    #pass as tuple -- (rho, sigma)\n",
    "    exc = np.array(jax.vmap(derivable_custom_pbe_e)( rhosig ) )\n",
    "    \n",
    "    #first order derivatives w.r.t. rho and sigma\n",
    "    vrho_f = eqx.filter_grad(derivable_custom_pbe_epsilon)\n",
    "    vrhosigma = np.array(jax.vmap(vrho_f)( rhosig ))\n",
    "    # print('vrhosigma shape:', vrhosigma.shape)\n",
    "    vxc = (vrhosigma[0], vrhosigma[1], None, None)\n",
    "\n",
    "    # v2_f = eqx.filter_hessian(derivable_custom_pbe_epsilon)\n",
    "    v2_f = jax.hessian(derivable_custom_pbe_epsilon)\n",
    "    # v2_f = jax.hessian(custom_pbe_epsilon, argnums=[0, 1])\n",
    "    v2 = np.array(jax.vmap(v2_f)( rhosig ))\n",
    "    # print('v2 shape', v2.shape)\n",
    "    v2rho2 = v2[0][0]\n",
    "    v2rhosigma = v2[0][1]\n",
    "    v2sigma2 = v2[1][1]\n",
    "    v2lapl2 = None\n",
    "    vtau2 = None\n",
    "    v2rholapl = None\n",
    "    v2rhotau = None\n",
    "    v2lapltau = None\n",
    "    v2sigmalapl = None\n",
    "    v2sigmatau = None\n",
    "    # 2nd order functional derivative\n",
    "    fxc = (v2rho2, v2rhosigma, v2sigma2, v2lapl2, vtau2, v2rholapl, v2rhotau, v2lapltau, v2sigmalapl, v2sigmatau)\n",
    "    #3rd order\n",
    "    kxc = None\n",
    "    \n",
    "    return exc, vxc, fxc, kxc\n"
   ]
  },
  {
   "cell_type": "code",
   "execution_count": 211,
   "id": "1009c416-1e85-43d6-9d26-48c620e60218",
   "metadata": {},
   "outputs": [
    {
     "name": "stdout",
     "output_type": "stream",
     "text": [
      "converged SCF energy = -76.0026504505729\n"
     ]
    },
    {
     "data": {
      "text/plain": [
       "-76.00265045057293"
      ]
     },
     "execution_count": 211,
     "metadata": {},
     "output_type": "execute_result"
    }
   ],
   "source": [
    "#overwrite the kernel's driver\n",
    "mfcpj = dft.RKS(mol)\n",
    "mfcpj = mfcpj.define_xc_(eval_xc_gga_j, 'GGA')\n",
    "mfcpj.kernel()"
   ]
  },
  {
   "cell_type": "code",
   "execution_count": 212,
   "id": "bac5556c-250f-4dac-86ab-1b0076a1b4f3",
   "metadata": {},
   "outputs": [
    {
     "name": "stdout",
     "output_type": "stream",
     "text": [
      "1.4935008181282683e-05\n"
     ]
    }
   ],
   "source": [
    "print(abs(mfp.e_tot - mfcpj.e_tot))"
   ]
  },
  {
   "cell_type": "markdown",
   "id": "89cde891-e6d7-4bf3-838b-a0ce0a06bee2",
   "metadata": {},
   "source": [
    "So we've achieved PBE-predictions to an accuracy of $10^{-5}\\ \\mathrm{H} \\sim 10^{-4}\\ \\mathrm{eV} \\sim 10^{-3}\\ \\mathrm{kcal/mol} \\sim 10^{-2}\\ \\mathrm{kJ/mol}.$"
   ]
  }
 ],
 "metadata": {
  "kernelspec": {
   "display_name": "Python 3 (ipykernel)",
   "language": "python",
   "name": "python3"
  },
  "language_info": {
   "codemirror_mode": {
    "name": "ipython",
    "version": 3
   },
   "file_extension": ".py",
   "mimetype": "text/x-python",
   "name": "python",
   "nbconvert_exporter": "python",
   "pygments_lexer": "ipython3",
   "version": "3.10.14"
  }
 },
 "nbformat": 4,
 "nbformat_minor": 5
}
